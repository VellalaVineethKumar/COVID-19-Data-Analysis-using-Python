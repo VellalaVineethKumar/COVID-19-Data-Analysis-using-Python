{
  "nbformat": 4,
  "nbformat_minor": 0,
  "metadata": {
    "kernelspec": {
      "display_name": "Python 3",
      "language": "python",
      "name": "python3"
    },
    "language_info": {
      "codemirror_mode": {
        "name": "ipython",
        "version": 3
      },
      "file_extension": ".py",
      "mimetype": "text/x-python",
      "name": "python",
      "nbconvert_exporter": "python",
      "pygments_lexer": "ipython3",
      "version": "3.8.2"
    },
    "colab": {
      "name": "Positive Cases of covid19 data analysis notebook.ipynb",
      "provenance": [],
      "collapsed_sections": [
        "IE-mx5kGjvnW"
      ],
      "toc_visible": true
    }
  },
  "cells": [
    {
      "cell_type": "markdown",
      "metadata": {
        "id": "cj_Hn32NjvmI",
        "colab_type": "text"
      },
      "source": [
        "# Welcome to Covid19 Data Analysis Notebook\n",
        "------------------------------------------"
      ]
    },
    {
      "cell_type": "markdown",
      "metadata": {
        "id": "KjBIE7hgjvmJ",
        "colab_type": "text"
      },
      "source": [
        "### Let's Import the modules "
      ]
    },
    {
      "cell_type": "code",
      "metadata": {
        "id": "xA6BGaKljvmK",
        "colab_type": "code",
        "colab": {
          "base_uri": "https://localhost:8080/",
          "height": 35
        },
        "outputId": "c6e380e6-54b4-49b1-ff14-c06f37fe758a"
      },
      "source": [
        "import pandas as pd \n",
        "import numpy as np \n",
        "import seaborn as sns\n",
        "import matplotlib.pyplot as plt \n",
        "print('Modules are imported.')"
      ],
      "execution_count": 56,
      "outputs": [
        {
          "output_type": "stream",
          "text": [
            "Modules are imported.\n"
          ],
          "name": "stdout"
        }
      ]
    },
    {
      "cell_type": "markdown",
      "metadata": {
        "id": "osD2o4yejvmP",
        "colab_type": "text"
      },
      "source": [
        "## Task 2 "
      ]
    },
    {
      "cell_type": "markdown",
      "metadata": {
        "id": "IUUI26cQjvmP",
        "colab_type": "text"
      },
      "source": [
        "### Task 2.1: importing covid19 dataset\n",
        "importing \"Covid19_Confirmed_dataset.csv\" from \"./Dataset\" folder. \n"
      ]
    },
    {
      "cell_type": "code",
      "metadata": {
        "id": "0PlAuOzTjvmQ",
        "colab_type": "code",
        "colab": {
          "base_uri": "https://localhost:8080/",
          "height": 457
        },
        "outputId": "b4afe05a-8543-4174-9f2e-6ad16c57c938"
      },
      "source": [
        "corona_dataset_csv= pd.read_csv(\"sample_data/time_series_covid19_confirmed_global.csv\")\n",
        "corona_dataset_csv.head(10)"
      ],
      "execution_count": 57,
      "outputs": [
        {
          "output_type": "execute_result",
          "data": {
            "text/html": [
              "<div>\n",
              "<style scoped>\n",
              "    .dataframe tbody tr th:only-of-type {\n",
              "        vertical-align: middle;\n",
              "    }\n",
              "\n",
              "    .dataframe tbody tr th {\n",
              "        vertical-align: top;\n",
              "    }\n",
              "\n",
              "    .dataframe thead th {\n",
              "        text-align: right;\n",
              "    }\n",
              "</style>\n",
              "<table border=\"1\" class=\"dataframe\">\n",
              "  <thead>\n",
              "    <tr style=\"text-align: right;\">\n",
              "      <th></th>\n",
              "      <th>Province/State</th>\n",
              "      <th>Country/Region</th>\n",
              "      <th>Lat</th>\n",
              "      <th>Long</th>\n",
              "      <th>1/22/20</th>\n",
              "      <th>1/23/20</th>\n",
              "      <th>1/24/20</th>\n",
              "      <th>1/25/20</th>\n",
              "      <th>1/26/20</th>\n",
              "      <th>1/27/20</th>\n",
              "      <th>1/28/20</th>\n",
              "      <th>1/29/20</th>\n",
              "      <th>1/30/20</th>\n",
              "      <th>1/31/20</th>\n",
              "      <th>2/1/20</th>\n",
              "      <th>2/2/20</th>\n",
              "      <th>2/3/20</th>\n",
              "      <th>2/4/20</th>\n",
              "      <th>2/5/20</th>\n",
              "      <th>2/6/20</th>\n",
              "      <th>2/7/20</th>\n",
              "      <th>2/8/20</th>\n",
              "      <th>2/9/20</th>\n",
              "      <th>2/10/20</th>\n",
              "      <th>2/11/20</th>\n",
              "      <th>2/12/20</th>\n",
              "      <th>2/13/20</th>\n",
              "      <th>2/14/20</th>\n",
              "      <th>2/15/20</th>\n",
              "      <th>2/16/20</th>\n",
              "      <th>2/17/20</th>\n",
              "      <th>2/18/20</th>\n",
              "      <th>2/19/20</th>\n",
              "      <th>2/20/20</th>\n",
              "      <th>2/21/20</th>\n",
              "      <th>2/22/20</th>\n",
              "      <th>2/23/20</th>\n",
              "      <th>2/24/20</th>\n",
              "      <th>2/25/20</th>\n",
              "      <th>2/26/20</th>\n",
              "      <th>...</th>\n",
              "      <th>5/22/20</th>\n",
              "      <th>5/23/20</th>\n",
              "      <th>5/24/20</th>\n",
              "      <th>5/25/20</th>\n",
              "      <th>5/26/20</th>\n",
              "      <th>5/27/20</th>\n",
              "      <th>5/28/20</th>\n",
              "      <th>5/29/20</th>\n",
              "      <th>5/30/20</th>\n",
              "      <th>5/31/20</th>\n",
              "      <th>6/1/20</th>\n",
              "      <th>6/2/20</th>\n",
              "      <th>6/3/20</th>\n",
              "      <th>6/4/20</th>\n",
              "      <th>6/5/20</th>\n",
              "      <th>6/6/20</th>\n",
              "      <th>6/7/20</th>\n",
              "      <th>6/8/20</th>\n",
              "      <th>6/9/20</th>\n",
              "      <th>6/10/20</th>\n",
              "      <th>6/11/20</th>\n",
              "      <th>6/12/20</th>\n",
              "      <th>6/13/20</th>\n",
              "      <th>6/14/20</th>\n",
              "      <th>6/15/20</th>\n",
              "      <th>6/16/20</th>\n",
              "      <th>6/17/20</th>\n",
              "      <th>6/18/20</th>\n",
              "      <th>6/19/20</th>\n",
              "      <th>6/20/20</th>\n",
              "      <th>6/21/20</th>\n",
              "      <th>6/22/20</th>\n",
              "      <th>6/23/20</th>\n",
              "      <th>6/24/20</th>\n",
              "      <th>6/25/20</th>\n",
              "      <th>6/26/20</th>\n",
              "      <th>6/27/20</th>\n",
              "      <th>6/28/20</th>\n",
              "      <th>6/29/20</th>\n",
              "      <th>6/30/20</th>\n",
              "    </tr>\n",
              "  </thead>\n",
              "  <tbody>\n",
              "    <tr>\n",
              "      <th>0</th>\n",
              "      <td>NaN</td>\n",
              "      <td>Afghanistan</td>\n",
              "      <td>33.0000</td>\n",
              "      <td>65.0000</td>\n",
              "      <td>0</td>\n",
              "      <td>0</td>\n",
              "      <td>0</td>\n",
              "      <td>0</td>\n",
              "      <td>0</td>\n",
              "      <td>0</td>\n",
              "      <td>0</td>\n",
              "      <td>0</td>\n",
              "      <td>0</td>\n",
              "      <td>0</td>\n",
              "      <td>0</td>\n",
              "      <td>0</td>\n",
              "      <td>0</td>\n",
              "      <td>0</td>\n",
              "      <td>0</td>\n",
              "      <td>0</td>\n",
              "      <td>0</td>\n",
              "      <td>0</td>\n",
              "      <td>0</td>\n",
              "      <td>0</td>\n",
              "      <td>0</td>\n",
              "      <td>0</td>\n",
              "      <td>0</td>\n",
              "      <td>0</td>\n",
              "      <td>0</td>\n",
              "      <td>0</td>\n",
              "      <td>0</td>\n",
              "      <td>0</td>\n",
              "      <td>0</td>\n",
              "      <td>0</td>\n",
              "      <td>0</td>\n",
              "      <td>0</td>\n",
              "      <td>0</td>\n",
              "      <td>1</td>\n",
              "      <td>1</td>\n",
              "      <td>1</td>\n",
              "      <td>...</td>\n",
              "      <td>9216</td>\n",
              "      <td>9998</td>\n",
              "      <td>10582</td>\n",
              "      <td>11173</td>\n",
              "      <td>11831</td>\n",
              "      <td>12456</td>\n",
              "      <td>13036</td>\n",
              "      <td>13659</td>\n",
              "      <td>14525</td>\n",
              "      <td>15205</td>\n",
              "      <td>15750</td>\n",
              "      <td>16509</td>\n",
              "      <td>17267</td>\n",
              "      <td>18054</td>\n",
              "      <td>18969</td>\n",
              "      <td>19551</td>\n",
              "      <td>20342</td>\n",
              "      <td>20917</td>\n",
              "      <td>21459</td>\n",
              "      <td>22142</td>\n",
              "      <td>22890</td>\n",
              "      <td>23546</td>\n",
              "      <td>24102</td>\n",
              "      <td>24766</td>\n",
              "      <td>25527</td>\n",
              "      <td>26310</td>\n",
              "      <td>26874</td>\n",
              "      <td>27532</td>\n",
              "      <td>27878</td>\n",
              "      <td>28424</td>\n",
              "      <td>28833</td>\n",
              "      <td>29157</td>\n",
              "      <td>29481</td>\n",
              "      <td>29640</td>\n",
              "      <td>30175</td>\n",
              "      <td>30451</td>\n",
              "      <td>30616</td>\n",
              "      <td>30967</td>\n",
              "      <td>31238</td>\n",
              "      <td>31517</td>\n",
              "    </tr>\n",
              "    <tr>\n",
              "      <th>1</th>\n",
              "      <td>NaN</td>\n",
              "      <td>Albania</td>\n",
              "      <td>41.1533</td>\n",
              "      <td>20.1683</td>\n",
              "      <td>0</td>\n",
              "      <td>0</td>\n",
              "      <td>0</td>\n",
              "      <td>0</td>\n",
              "      <td>0</td>\n",
              "      <td>0</td>\n",
              "      <td>0</td>\n",
              "      <td>0</td>\n",
              "      <td>0</td>\n",
              "      <td>0</td>\n",
              "      <td>0</td>\n",
              "      <td>0</td>\n",
              "      <td>0</td>\n",
              "      <td>0</td>\n",
              "      <td>0</td>\n",
              "      <td>0</td>\n",
              "      <td>0</td>\n",
              "      <td>0</td>\n",
              "      <td>0</td>\n",
              "      <td>0</td>\n",
              "      <td>0</td>\n",
              "      <td>0</td>\n",
              "      <td>0</td>\n",
              "      <td>0</td>\n",
              "      <td>0</td>\n",
              "      <td>0</td>\n",
              "      <td>0</td>\n",
              "      <td>0</td>\n",
              "      <td>0</td>\n",
              "      <td>0</td>\n",
              "      <td>0</td>\n",
              "      <td>0</td>\n",
              "      <td>0</td>\n",
              "      <td>0</td>\n",
              "      <td>0</td>\n",
              "      <td>0</td>\n",
              "      <td>...</td>\n",
              "      <td>981</td>\n",
              "      <td>989</td>\n",
              "      <td>998</td>\n",
              "      <td>1004</td>\n",
              "      <td>1029</td>\n",
              "      <td>1050</td>\n",
              "      <td>1076</td>\n",
              "      <td>1099</td>\n",
              "      <td>1122</td>\n",
              "      <td>1137</td>\n",
              "      <td>1143</td>\n",
              "      <td>1164</td>\n",
              "      <td>1184</td>\n",
              "      <td>1197</td>\n",
              "      <td>1212</td>\n",
              "      <td>1232</td>\n",
              "      <td>1246</td>\n",
              "      <td>1263</td>\n",
              "      <td>1299</td>\n",
              "      <td>1341</td>\n",
              "      <td>1385</td>\n",
              "      <td>1416</td>\n",
              "      <td>1464</td>\n",
              "      <td>1521</td>\n",
              "      <td>1590</td>\n",
              "      <td>1672</td>\n",
              "      <td>1722</td>\n",
              "      <td>1788</td>\n",
              "      <td>1838</td>\n",
              "      <td>1891</td>\n",
              "      <td>1962</td>\n",
              "      <td>1995</td>\n",
              "      <td>2047</td>\n",
              "      <td>2114</td>\n",
              "      <td>2192</td>\n",
              "      <td>2269</td>\n",
              "      <td>2330</td>\n",
              "      <td>2402</td>\n",
              "      <td>2466</td>\n",
              "      <td>2535</td>\n",
              "    </tr>\n",
              "    <tr>\n",
              "      <th>2</th>\n",
              "      <td>NaN</td>\n",
              "      <td>Algeria</td>\n",
              "      <td>28.0339</td>\n",
              "      <td>1.6596</td>\n",
              "      <td>0</td>\n",
              "      <td>0</td>\n",
              "      <td>0</td>\n",
              "      <td>0</td>\n",
              "      <td>0</td>\n",
              "      <td>0</td>\n",
              "      <td>0</td>\n",
              "      <td>0</td>\n",
              "      <td>0</td>\n",
              "      <td>0</td>\n",
              "      <td>0</td>\n",
              "      <td>0</td>\n",
              "      <td>0</td>\n",
              "      <td>0</td>\n",
              "      <td>0</td>\n",
              "      <td>0</td>\n",
              "      <td>0</td>\n",
              "      <td>0</td>\n",
              "      <td>0</td>\n",
              "      <td>0</td>\n",
              "      <td>0</td>\n",
              "      <td>0</td>\n",
              "      <td>0</td>\n",
              "      <td>0</td>\n",
              "      <td>0</td>\n",
              "      <td>0</td>\n",
              "      <td>0</td>\n",
              "      <td>0</td>\n",
              "      <td>0</td>\n",
              "      <td>0</td>\n",
              "      <td>0</td>\n",
              "      <td>0</td>\n",
              "      <td>0</td>\n",
              "      <td>0</td>\n",
              "      <td>1</td>\n",
              "      <td>1</td>\n",
              "      <td>...</td>\n",
              "      <td>7918</td>\n",
              "      <td>8113</td>\n",
              "      <td>8306</td>\n",
              "      <td>8503</td>\n",
              "      <td>8697</td>\n",
              "      <td>8857</td>\n",
              "      <td>8997</td>\n",
              "      <td>9134</td>\n",
              "      <td>9267</td>\n",
              "      <td>9394</td>\n",
              "      <td>9513</td>\n",
              "      <td>9626</td>\n",
              "      <td>9733</td>\n",
              "      <td>9831</td>\n",
              "      <td>9935</td>\n",
              "      <td>10050</td>\n",
              "      <td>10154</td>\n",
              "      <td>10265</td>\n",
              "      <td>10382</td>\n",
              "      <td>10484</td>\n",
              "      <td>10589</td>\n",
              "      <td>10698</td>\n",
              "      <td>10810</td>\n",
              "      <td>10919</td>\n",
              "      <td>11031</td>\n",
              "      <td>11147</td>\n",
              "      <td>11268</td>\n",
              "      <td>11385</td>\n",
              "      <td>11504</td>\n",
              "      <td>11631</td>\n",
              "      <td>11771</td>\n",
              "      <td>11920</td>\n",
              "      <td>12076</td>\n",
              "      <td>12248</td>\n",
              "      <td>12445</td>\n",
              "      <td>12685</td>\n",
              "      <td>12968</td>\n",
              "      <td>13273</td>\n",
              "      <td>13571</td>\n",
              "      <td>13907</td>\n",
              "    </tr>\n",
              "    <tr>\n",
              "      <th>3</th>\n",
              "      <td>NaN</td>\n",
              "      <td>Andorra</td>\n",
              "      <td>42.5063</td>\n",
              "      <td>1.5218</td>\n",
              "      <td>0</td>\n",
              "      <td>0</td>\n",
              "      <td>0</td>\n",
              "      <td>0</td>\n",
              "      <td>0</td>\n",
              "      <td>0</td>\n",
              "      <td>0</td>\n",
              "      <td>0</td>\n",
              "      <td>0</td>\n",
              "      <td>0</td>\n",
              "      <td>0</td>\n",
              "      <td>0</td>\n",
              "      <td>0</td>\n",
              "      <td>0</td>\n",
              "      <td>0</td>\n",
              "      <td>0</td>\n",
              "      <td>0</td>\n",
              "      <td>0</td>\n",
              "      <td>0</td>\n",
              "      <td>0</td>\n",
              "      <td>0</td>\n",
              "      <td>0</td>\n",
              "      <td>0</td>\n",
              "      <td>0</td>\n",
              "      <td>0</td>\n",
              "      <td>0</td>\n",
              "      <td>0</td>\n",
              "      <td>0</td>\n",
              "      <td>0</td>\n",
              "      <td>0</td>\n",
              "      <td>0</td>\n",
              "      <td>0</td>\n",
              "      <td>0</td>\n",
              "      <td>0</td>\n",
              "      <td>0</td>\n",
              "      <td>0</td>\n",
              "      <td>...</td>\n",
              "      <td>762</td>\n",
              "      <td>762</td>\n",
              "      <td>762</td>\n",
              "      <td>763</td>\n",
              "      <td>763</td>\n",
              "      <td>763</td>\n",
              "      <td>763</td>\n",
              "      <td>764</td>\n",
              "      <td>764</td>\n",
              "      <td>764</td>\n",
              "      <td>765</td>\n",
              "      <td>844</td>\n",
              "      <td>851</td>\n",
              "      <td>852</td>\n",
              "      <td>852</td>\n",
              "      <td>852</td>\n",
              "      <td>852</td>\n",
              "      <td>852</td>\n",
              "      <td>852</td>\n",
              "      <td>852</td>\n",
              "      <td>852</td>\n",
              "      <td>853</td>\n",
              "      <td>853</td>\n",
              "      <td>853</td>\n",
              "      <td>853</td>\n",
              "      <td>854</td>\n",
              "      <td>854</td>\n",
              "      <td>855</td>\n",
              "      <td>855</td>\n",
              "      <td>855</td>\n",
              "      <td>855</td>\n",
              "      <td>855</td>\n",
              "      <td>855</td>\n",
              "      <td>855</td>\n",
              "      <td>855</td>\n",
              "      <td>855</td>\n",
              "      <td>855</td>\n",
              "      <td>855</td>\n",
              "      <td>855</td>\n",
              "      <td>855</td>\n",
              "    </tr>\n",
              "    <tr>\n",
              "      <th>4</th>\n",
              "      <td>NaN</td>\n",
              "      <td>Angola</td>\n",
              "      <td>-11.2027</td>\n",
              "      <td>17.8739</td>\n",
              "      <td>0</td>\n",
              "      <td>0</td>\n",
              "      <td>0</td>\n",
              "      <td>0</td>\n",
              "      <td>0</td>\n",
              "      <td>0</td>\n",
              "      <td>0</td>\n",
              "      <td>0</td>\n",
              "      <td>0</td>\n",
              "      <td>0</td>\n",
              "      <td>0</td>\n",
              "      <td>0</td>\n",
              "      <td>0</td>\n",
              "      <td>0</td>\n",
              "      <td>0</td>\n",
              "      <td>0</td>\n",
              "      <td>0</td>\n",
              "      <td>0</td>\n",
              "      <td>0</td>\n",
              "      <td>0</td>\n",
              "      <td>0</td>\n",
              "      <td>0</td>\n",
              "      <td>0</td>\n",
              "      <td>0</td>\n",
              "      <td>0</td>\n",
              "      <td>0</td>\n",
              "      <td>0</td>\n",
              "      <td>0</td>\n",
              "      <td>0</td>\n",
              "      <td>0</td>\n",
              "      <td>0</td>\n",
              "      <td>0</td>\n",
              "      <td>0</td>\n",
              "      <td>0</td>\n",
              "      <td>0</td>\n",
              "      <td>0</td>\n",
              "      <td>...</td>\n",
              "      <td>60</td>\n",
              "      <td>61</td>\n",
              "      <td>69</td>\n",
              "      <td>70</td>\n",
              "      <td>70</td>\n",
              "      <td>71</td>\n",
              "      <td>74</td>\n",
              "      <td>81</td>\n",
              "      <td>84</td>\n",
              "      <td>86</td>\n",
              "      <td>86</td>\n",
              "      <td>86</td>\n",
              "      <td>86</td>\n",
              "      <td>86</td>\n",
              "      <td>86</td>\n",
              "      <td>88</td>\n",
              "      <td>91</td>\n",
              "      <td>92</td>\n",
              "      <td>96</td>\n",
              "      <td>113</td>\n",
              "      <td>118</td>\n",
              "      <td>130</td>\n",
              "      <td>138</td>\n",
              "      <td>140</td>\n",
              "      <td>142</td>\n",
              "      <td>148</td>\n",
              "      <td>155</td>\n",
              "      <td>166</td>\n",
              "      <td>172</td>\n",
              "      <td>176</td>\n",
              "      <td>183</td>\n",
              "      <td>186</td>\n",
              "      <td>189</td>\n",
              "      <td>197</td>\n",
              "      <td>212</td>\n",
              "      <td>212</td>\n",
              "      <td>259</td>\n",
              "      <td>267</td>\n",
              "      <td>276</td>\n",
              "      <td>284</td>\n",
              "    </tr>\n",
              "    <tr>\n",
              "      <th>5</th>\n",
              "      <td>NaN</td>\n",
              "      <td>Antigua and Barbuda</td>\n",
              "      <td>17.0608</td>\n",
              "      <td>-61.7964</td>\n",
              "      <td>0</td>\n",
              "      <td>0</td>\n",
              "      <td>0</td>\n",
              "      <td>0</td>\n",
              "      <td>0</td>\n",
              "      <td>0</td>\n",
              "      <td>0</td>\n",
              "      <td>0</td>\n",
              "      <td>0</td>\n",
              "      <td>0</td>\n",
              "      <td>0</td>\n",
              "      <td>0</td>\n",
              "      <td>0</td>\n",
              "      <td>0</td>\n",
              "      <td>0</td>\n",
              "      <td>0</td>\n",
              "      <td>0</td>\n",
              "      <td>0</td>\n",
              "      <td>0</td>\n",
              "      <td>0</td>\n",
              "      <td>0</td>\n",
              "      <td>0</td>\n",
              "      <td>0</td>\n",
              "      <td>0</td>\n",
              "      <td>0</td>\n",
              "      <td>0</td>\n",
              "      <td>0</td>\n",
              "      <td>0</td>\n",
              "      <td>0</td>\n",
              "      <td>0</td>\n",
              "      <td>0</td>\n",
              "      <td>0</td>\n",
              "      <td>0</td>\n",
              "      <td>0</td>\n",
              "      <td>0</td>\n",
              "      <td>0</td>\n",
              "      <td>...</td>\n",
              "      <td>25</td>\n",
              "      <td>25</td>\n",
              "      <td>25</td>\n",
              "      <td>25</td>\n",
              "      <td>25</td>\n",
              "      <td>25</td>\n",
              "      <td>25</td>\n",
              "      <td>25</td>\n",
              "      <td>25</td>\n",
              "      <td>26</td>\n",
              "      <td>26</td>\n",
              "      <td>26</td>\n",
              "      <td>26</td>\n",
              "      <td>26</td>\n",
              "      <td>26</td>\n",
              "      <td>26</td>\n",
              "      <td>26</td>\n",
              "      <td>26</td>\n",
              "      <td>26</td>\n",
              "      <td>26</td>\n",
              "      <td>26</td>\n",
              "      <td>26</td>\n",
              "      <td>26</td>\n",
              "      <td>26</td>\n",
              "      <td>26</td>\n",
              "      <td>26</td>\n",
              "      <td>26</td>\n",
              "      <td>26</td>\n",
              "      <td>26</td>\n",
              "      <td>26</td>\n",
              "      <td>26</td>\n",
              "      <td>26</td>\n",
              "      <td>26</td>\n",
              "      <td>26</td>\n",
              "      <td>65</td>\n",
              "      <td>65</td>\n",
              "      <td>65</td>\n",
              "      <td>69</td>\n",
              "      <td>69</td>\n",
              "      <td>69</td>\n",
              "    </tr>\n",
              "    <tr>\n",
              "      <th>6</th>\n",
              "      <td>NaN</td>\n",
              "      <td>Argentina</td>\n",
              "      <td>-38.4161</td>\n",
              "      <td>-63.6167</td>\n",
              "      <td>0</td>\n",
              "      <td>0</td>\n",
              "      <td>0</td>\n",
              "      <td>0</td>\n",
              "      <td>0</td>\n",
              "      <td>0</td>\n",
              "      <td>0</td>\n",
              "      <td>0</td>\n",
              "      <td>0</td>\n",
              "      <td>0</td>\n",
              "      <td>0</td>\n",
              "      <td>0</td>\n",
              "      <td>0</td>\n",
              "      <td>0</td>\n",
              "      <td>0</td>\n",
              "      <td>0</td>\n",
              "      <td>0</td>\n",
              "      <td>0</td>\n",
              "      <td>0</td>\n",
              "      <td>0</td>\n",
              "      <td>0</td>\n",
              "      <td>0</td>\n",
              "      <td>0</td>\n",
              "      <td>0</td>\n",
              "      <td>0</td>\n",
              "      <td>0</td>\n",
              "      <td>0</td>\n",
              "      <td>0</td>\n",
              "      <td>0</td>\n",
              "      <td>0</td>\n",
              "      <td>0</td>\n",
              "      <td>0</td>\n",
              "      <td>0</td>\n",
              "      <td>0</td>\n",
              "      <td>0</td>\n",
              "      <td>0</td>\n",
              "      <td>...</td>\n",
              "      <td>10649</td>\n",
              "      <td>11353</td>\n",
              "      <td>12076</td>\n",
              "      <td>12628</td>\n",
              "      <td>13228</td>\n",
              "      <td>13933</td>\n",
              "      <td>14702</td>\n",
              "      <td>15419</td>\n",
              "      <td>16214</td>\n",
              "      <td>16851</td>\n",
              "      <td>17415</td>\n",
              "      <td>18319</td>\n",
              "      <td>19268</td>\n",
              "      <td>20197</td>\n",
              "      <td>21037</td>\n",
              "      <td>22020</td>\n",
              "      <td>22794</td>\n",
              "      <td>23620</td>\n",
              "      <td>24761</td>\n",
              "      <td>25987</td>\n",
              "      <td>27373</td>\n",
              "      <td>28764</td>\n",
              "      <td>30295</td>\n",
              "      <td>31577</td>\n",
              "      <td>32785</td>\n",
              "      <td>34159</td>\n",
              "      <td>35552</td>\n",
              "      <td>37510</td>\n",
              "      <td>39570</td>\n",
              "      <td>41204</td>\n",
              "      <td>42785</td>\n",
              "      <td>44931</td>\n",
              "      <td>47203</td>\n",
              "      <td>49851</td>\n",
              "      <td>52457</td>\n",
              "      <td>55343</td>\n",
              "      <td>57744</td>\n",
              "      <td>59933</td>\n",
              "      <td>62268</td>\n",
              "      <td>64530</td>\n",
              "    </tr>\n",
              "    <tr>\n",
              "      <th>7</th>\n",
              "      <td>NaN</td>\n",
              "      <td>Armenia</td>\n",
              "      <td>40.0691</td>\n",
              "      <td>45.0382</td>\n",
              "      <td>0</td>\n",
              "      <td>0</td>\n",
              "      <td>0</td>\n",
              "      <td>0</td>\n",
              "      <td>0</td>\n",
              "      <td>0</td>\n",
              "      <td>0</td>\n",
              "      <td>0</td>\n",
              "      <td>0</td>\n",
              "      <td>0</td>\n",
              "      <td>0</td>\n",
              "      <td>0</td>\n",
              "      <td>0</td>\n",
              "      <td>0</td>\n",
              "      <td>0</td>\n",
              "      <td>0</td>\n",
              "      <td>0</td>\n",
              "      <td>0</td>\n",
              "      <td>0</td>\n",
              "      <td>0</td>\n",
              "      <td>0</td>\n",
              "      <td>0</td>\n",
              "      <td>0</td>\n",
              "      <td>0</td>\n",
              "      <td>0</td>\n",
              "      <td>0</td>\n",
              "      <td>0</td>\n",
              "      <td>0</td>\n",
              "      <td>0</td>\n",
              "      <td>0</td>\n",
              "      <td>0</td>\n",
              "      <td>0</td>\n",
              "      <td>0</td>\n",
              "      <td>0</td>\n",
              "      <td>0</td>\n",
              "      <td>0</td>\n",
              "      <td>...</td>\n",
              "      <td>5928</td>\n",
              "      <td>6302</td>\n",
              "      <td>6661</td>\n",
              "      <td>7113</td>\n",
              "      <td>7402</td>\n",
              "      <td>7774</td>\n",
              "      <td>8216</td>\n",
              "      <td>8676</td>\n",
              "      <td>8927</td>\n",
              "      <td>9282</td>\n",
              "      <td>9492</td>\n",
              "      <td>10009</td>\n",
              "      <td>10524</td>\n",
              "      <td>11221</td>\n",
              "      <td>11817</td>\n",
              "      <td>12364</td>\n",
              "      <td>13130</td>\n",
              "      <td>13325</td>\n",
              "      <td>13675</td>\n",
              "      <td>14103</td>\n",
              "      <td>14669</td>\n",
              "      <td>15281</td>\n",
              "      <td>16004</td>\n",
              "      <td>16667</td>\n",
              "      <td>17064</td>\n",
              "      <td>17489</td>\n",
              "      <td>18033</td>\n",
              "      <td>18698</td>\n",
              "      <td>19157</td>\n",
              "      <td>19708</td>\n",
              "      <td>20268</td>\n",
              "      <td>20588</td>\n",
              "      <td>21006</td>\n",
              "      <td>21717</td>\n",
              "      <td>22488</td>\n",
              "      <td>23247</td>\n",
              "      <td>23909</td>\n",
              "      <td>24645</td>\n",
              "      <td>25127</td>\n",
              "      <td>25542</td>\n",
              "    </tr>\n",
              "    <tr>\n",
              "      <th>8</th>\n",
              "      <td>Australian Capital Territory</td>\n",
              "      <td>Australia</td>\n",
              "      <td>-35.4735</td>\n",
              "      <td>149.0124</td>\n",
              "      <td>0</td>\n",
              "      <td>0</td>\n",
              "      <td>0</td>\n",
              "      <td>0</td>\n",
              "      <td>0</td>\n",
              "      <td>0</td>\n",
              "      <td>0</td>\n",
              "      <td>0</td>\n",
              "      <td>0</td>\n",
              "      <td>0</td>\n",
              "      <td>0</td>\n",
              "      <td>0</td>\n",
              "      <td>0</td>\n",
              "      <td>0</td>\n",
              "      <td>0</td>\n",
              "      <td>0</td>\n",
              "      <td>0</td>\n",
              "      <td>0</td>\n",
              "      <td>0</td>\n",
              "      <td>0</td>\n",
              "      <td>0</td>\n",
              "      <td>0</td>\n",
              "      <td>0</td>\n",
              "      <td>0</td>\n",
              "      <td>0</td>\n",
              "      <td>0</td>\n",
              "      <td>0</td>\n",
              "      <td>0</td>\n",
              "      <td>0</td>\n",
              "      <td>0</td>\n",
              "      <td>0</td>\n",
              "      <td>0</td>\n",
              "      <td>0</td>\n",
              "      <td>0</td>\n",
              "      <td>0</td>\n",
              "      <td>0</td>\n",
              "      <td>...</td>\n",
              "      <td>107</td>\n",
              "      <td>107</td>\n",
              "      <td>107</td>\n",
              "      <td>107</td>\n",
              "      <td>107</td>\n",
              "      <td>107</td>\n",
              "      <td>107</td>\n",
              "      <td>107</td>\n",
              "      <td>107</td>\n",
              "      <td>107</td>\n",
              "      <td>107</td>\n",
              "      <td>107</td>\n",
              "      <td>107</td>\n",
              "      <td>107</td>\n",
              "      <td>107</td>\n",
              "      <td>108</td>\n",
              "      <td>108</td>\n",
              "      <td>108</td>\n",
              "      <td>108</td>\n",
              "      <td>108</td>\n",
              "      <td>108</td>\n",
              "      <td>108</td>\n",
              "      <td>108</td>\n",
              "      <td>108</td>\n",
              "      <td>108</td>\n",
              "      <td>108</td>\n",
              "      <td>108</td>\n",
              "      <td>108</td>\n",
              "      <td>108</td>\n",
              "      <td>108</td>\n",
              "      <td>108</td>\n",
              "      <td>108</td>\n",
              "      <td>108</td>\n",
              "      <td>108</td>\n",
              "      <td>108</td>\n",
              "      <td>108</td>\n",
              "      <td>108</td>\n",
              "      <td>108</td>\n",
              "      <td>108</td>\n",
              "      <td>108</td>\n",
              "    </tr>\n",
              "    <tr>\n",
              "      <th>9</th>\n",
              "      <td>New South Wales</td>\n",
              "      <td>Australia</td>\n",
              "      <td>-33.8688</td>\n",
              "      <td>151.2093</td>\n",
              "      <td>0</td>\n",
              "      <td>0</td>\n",
              "      <td>0</td>\n",
              "      <td>0</td>\n",
              "      <td>3</td>\n",
              "      <td>4</td>\n",
              "      <td>4</td>\n",
              "      <td>4</td>\n",
              "      <td>4</td>\n",
              "      <td>4</td>\n",
              "      <td>4</td>\n",
              "      <td>4</td>\n",
              "      <td>4</td>\n",
              "      <td>4</td>\n",
              "      <td>4</td>\n",
              "      <td>4</td>\n",
              "      <td>4</td>\n",
              "      <td>4</td>\n",
              "      <td>4</td>\n",
              "      <td>4</td>\n",
              "      <td>4</td>\n",
              "      <td>4</td>\n",
              "      <td>4</td>\n",
              "      <td>4</td>\n",
              "      <td>4</td>\n",
              "      <td>4</td>\n",
              "      <td>4</td>\n",
              "      <td>4</td>\n",
              "      <td>4</td>\n",
              "      <td>4</td>\n",
              "      <td>4</td>\n",
              "      <td>4</td>\n",
              "      <td>4</td>\n",
              "      <td>4</td>\n",
              "      <td>4</td>\n",
              "      <td>4</td>\n",
              "      <td>...</td>\n",
              "      <td>3086</td>\n",
              "      <td>3087</td>\n",
              "      <td>3090</td>\n",
              "      <td>3092</td>\n",
              "      <td>3089</td>\n",
              "      <td>3090</td>\n",
              "      <td>3092</td>\n",
              "      <td>3092</td>\n",
              "      <td>3095</td>\n",
              "      <td>3098</td>\n",
              "      <td>3104</td>\n",
              "      <td>3104</td>\n",
              "      <td>3106</td>\n",
              "      <td>3110</td>\n",
              "      <td>3110</td>\n",
              "      <td>3109</td>\n",
              "      <td>3112</td>\n",
              "      <td>3114</td>\n",
              "      <td>3117</td>\n",
              "      <td>3117</td>\n",
              "      <td>3115</td>\n",
              "      <td>3119</td>\n",
              "      <td>3128</td>\n",
              "      <td>3131</td>\n",
              "      <td>3134</td>\n",
              "      <td>3135</td>\n",
              "      <td>3137</td>\n",
              "      <td>3143</td>\n",
              "      <td>3144</td>\n",
              "      <td>3149</td>\n",
              "      <td>3151</td>\n",
              "      <td>3150</td>\n",
              "      <td>3159</td>\n",
              "      <td>3162</td>\n",
              "      <td>3168</td>\n",
              "      <td>3174</td>\n",
              "      <td>3177</td>\n",
              "      <td>3184</td>\n",
              "      <td>3189</td>\n",
              "      <td>3203</td>\n",
              "    </tr>\n",
              "  </tbody>\n",
              "</table>\n",
              "<p>10 rows × 165 columns</p>\n",
              "</div>"
            ],
            "text/plain": [
              "                 Province/State       Country/Region  ...  6/29/20  6/30/20\n",
              "0                           NaN          Afghanistan  ...    31238    31517\n",
              "1                           NaN              Albania  ...     2466     2535\n",
              "2                           NaN              Algeria  ...    13571    13907\n",
              "3                           NaN              Andorra  ...      855      855\n",
              "4                           NaN               Angola  ...      276      284\n",
              "5                           NaN  Antigua and Barbuda  ...       69       69\n",
              "6                           NaN            Argentina  ...    62268    64530\n",
              "7                           NaN              Armenia  ...    25127    25542\n",
              "8  Australian Capital Territory            Australia  ...      108      108\n",
              "9               New South Wales            Australia  ...     3189     3203\n",
              "\n",
              "[10 rows x 165 columns]"
            ]
          },
          "metadata": {
            "tags": []
          },
          "execution_count": 57
        }
      ]
    },
    {
      "cell_type": "markdown",
      "metadata": {
        "id": "4yKBcAOsjvmT",
        "colab_type": "text"
      },
      "source": [
        "#### Let's check the shape of the dataframe"
      ]
    },
    {
      "cell_type": "code",
      "metadata": {
        "id": "bkO5au3NjvmU",
        "colab_type": "code",
        "colab": {
          "base_uri": "https://localhost:8080/",
          "height": 35
        },
        "outputId": "b1c64d08-e89e-45c6-e52b-562f95f5b3ec"
      },
      "source": [
        "corona_dataset_csv.shape"
      ],
      "execution_count": 58,
      "outputs": [
        {
          "output_type": "execute_result",
          "data": {
            "text/plain": [
              "(266, 165)"
            ]
          },
          "metadata": {
            "tags": []
          },
          "execution_count": 58
        }
      ]
    },
    {
      "cell_type": "markdown",
      "metadata": {
        "id": "NR_J5rKWjvmZ",
        "colab_type": "text"
      },
      "source": [
        "### Task 2.2: Delete the useless columns"
      ]
    },
    {
      "cell_type": "code",
      "metadata": {
        "id": "WkL0U4Lgjvma",
        "colab_type": "code",
        "colab": {}
      },
      "source": [
        "corona_dataset_csv.drop([\"Lat\",\"Long\"],axis=1,inplace=True)"
      ],
      "execution_count": 59,
      "outputs": []
    },
    {
      "cell_type": "code",
      "metadata": {
        "id": "SrdYJWKWjvmc",
        "colab_type": "code",
        "colab": {
          "base_uri": "https://localhost:8080/",
          "height": 251
        },
        "outputId": "c3066516-e3f0-407d-c7c4-7912be409d9c"
      },
      "source": [
        "\n",
        "corona_dataset_csv.head()"
      ],
      "execution_count": 60,
      "outputs": [
        {
          "output_type": "execute_result",
          "data": {
            "text/html": [
              "<div>\n",
              "<style scoped>\n",
              "    .dataframe tbody tr th:only-of-type {\n",
              "        vertical-align: middle;\n",
              "    }\n",
              "\n",
              "    .dataframe tbody tr th {\n",
              "        vertical-align: top;\n",
              "    }\n",
              "\n",
              "    .dataframe thead th {\n",
              "        text-align: right;\n",
              "    }\n",
              "</style>\n",
              "<table border=\"1\" class=\"dataframe\">\n",
              "  <thead>\n",
              "    <tr style=\"text-align: right;\">\n",
              "      <th></th>\n",
              "      <th>Province/State</th>\n",
              "      <th>Country/Region</th>\n",
              "      <th>1/22/20</th>\n",
              "      <th>1/23/20</th>\n",
              "      <th>1/24/20</th>\n",
              "      <th>1/25/20</th>\n",
              "      <th>1/26/20</th>\n",
              "      <th>1/27/20</th>\n",
              "      <th>1/28/20</th>\n",
              "      <th>1/29/20</th>\n",
              "      <th>1/30/20</th>\n",
              "      <th>1/31/20</th>\n",
              "      <th>2/1/20</th>\n",
              "      <th>2/2/20</th>\n",
              "      <th>2/3/20</th>\n",
              "      <th>2/4/20</th>\n",
              "      <th>2/5/20</th>\n",
              "      <th>2/6/20</th>\n",
              "      <th>2/7/20</th>\n",
              "      <th>2/8/20</th>\n",
              "      <th>2/9/20</th>\n",
              "      <th>2/10/20</th>\n",
              "      <th>2/11/20</th>\n",
              "      <th>2/12/20</th>\n",
              "      <th>2/13/20</th>\n",
              "      <th>2/14/20</th>\n",
              "      <th>2/15/20</th>\n",
              "      <th>2/16/20</th>\n",
              "      <th>2/17/20</th>\n",
              "      <th>2/18/20</th>\n",
              "      <th>2/19/20</th>\n",
              "      <th>2/20/20</th>\n",
              "      <th>2/21/20</th>\n",
              "      <th>2/22/20</th>\n",
              "      <th>2/23/20</th>\n",
              "      <th>2/24/20</th>\n",
              "      <th>2/25/20</th>\n",
              "      <th>2/26/20</th>\n",
              "      <th>2/27/20</th>\n",
              "      <th>2/28/20</th>\n",
              "      <th>...</th>\n",
              "      <th>5/22/20</th>\n",
              "      <th>5/23/20</th>\n",
              "      <th>5/24/20</th>\n",
              "      <th>5/25/20</th>\n",
              "      <th>5/26/20</th>\n",
              "      <th>5/27/20</th>\n",
              "      <th>5/28/20</th>\n",
              "      <th>5/29/20</th>\n",
              "      <th>5/30/20</th>\n",
              "      <th>5/31/20</th>\n",
              "      <th>6/1/20</th>\n",
              "      <th>6/2/20</th>\n",
              "      <th>6/3/20</th>\n",
              "      <th>6/4/20</th>\n",
              "      <th>6/5/20</th>\n",
              "      <th>6/6/20</th>\n",
              "      <th>6/7/20</th>\n",
              "      <th>6/8/20</th>\n",
              "      <th>6/9/20</th>\n",
              "      <th>6/10/20</th>\n",
              "      <th>6/11/20</th>\n",
              "      <th>6/12/20</th>\n",
              "      <th>6/13/20</th>\n",
              "      <th>6/14/20</th>\n",
              "      <th>6/15/20</th>\n",
              "      <th>6/16/20</th>\n",
              "      <th>6/17/20</th>\n",
              "      <th>6/18/20</th>\n",
              "      <th>6/19/20</th>\n",
              "      <th>6/20/20</th>\n",
              "      <th>6/21/20</th>\n",
              "      <th>6/22/20</th>\n",
              "      <th>6/23/20</th>\n",
              "      <th>6/24/20</th>\n",
              "      <th>6/25/20</th>\n",
              "      <th>6/26/20</th>\n",
              "      <th>6/27/20</th>\n",
              "      <th>6/28/20</th>\n",
              "      <th>6/29/20</th>\n",
              "      <th>6/30/20</th>\n",
              "    </tr>\n",
              "  </thead>\n",
              "  <tbody>\n",
              "    <tr>\n",
              "      <th>0</th>\n",
              "      <td>NaN</td>\n",
              "      <td>Afghanistan</td>\n",
              "      <td>0</td>\n",
              "      <td>0</td>\n",
              "      <td>0</td>\n",
              "      <td>0</td>\n",
              "      <td>0</td>\n",
              "      <td>0</td>\n",
              "      <td>0</td>\n",
              "      <td>0</td>\n",
              "      <td>0</td>\n",
              "      <td>0</td>\n",
              "      <td>0</td>\n",
              "      <td>0</td>\n",
              "      <td>0</td>\n",
              "      <td>0</td>\n",
              "      <td>0</td>\n",
              "      <td>0</td>\n",
              "      <td>0</td>\n",
              "      <td>0</td>\n",
              "      <td>0</td>\n",
              "      <td>0</td>\n",
              "      <td>0</td>\n",
              "      <td>0</td>\n",
              "      <td>0</td>\n",
              "      <td>0</td>\n",
              "      <td>0</td>\n",
              "      <td>0</td>\n",
              "      <td>0</td>\n",
              "      <td>0</td>\n",
              "      <td>0</td>\n",
              "      <td>0</td>\n",
              "      <td>0</td>\n",
              "      <td>0</td>\n",
              "      <td>0</td>\n",
              "      <td>1</td>\n",
              "      <td>1</td>\n",
              "      <td>1</td>\n",
              "      <td>1</td>\n",
              "      <td>1</td>\n",
              "      <td>...</td>\n",
              "      <td>9216</td>\n",
              "      <td>9998</td>\n",
              "      <td>10582</td>\n",
              "      <td>11173</td>\n",
              "      <td>11831</td>\n",
              "      <td>12456</td>\n",
              "      <td>13036</td>\n",
              "      <td>13659</td>\n",
              "      <td>14525</td>\n",
              "      <td>15205</td>\n",
              "      <td>15750</td>\n",
              "      <td>16509</td>\n",
              "      <td>17267</td>\n",
              "      <td>18054</td>\n",
              "      <td>18969</td>\n",
              "      <td>19551</td>\n",
              "      <td>20342</td>\n",
              "      <td>20917</td>\n",
              "      <td>21459</td>\n",
              "      <td>22142</td>\n",
              "      <td>22890</td>\n",
              "      <td>23546</td>\n",
              "      <td>24102</td>\n",
              "      <td>24766</td>\n",
              "      <td>25527</td>\n",
              "      <td>26310</td>\n",
              "      <td>26874</td>\n",
              "      <td>27532</td>\n",
              "      <td>27878</td>\n",
              "      <td>28424</td>\n",
              "      <td>28833</td>\n",
              "      <td>29157</td>\n",
              "      <td>29481</td>\n",
              "      <td>29640</td>\n",
              "      <td>30175</td>\n",
              "      <td>30451</td>\n",
              "      <td>30616</td>\n",
              "      <td>30967</td>\n",
              "      <td>31238</td>\n",
              "      <td>31517</td>\n",
              "    </tr>\n",
              "    <tr>\n",
              "      <th>1</th>\n",
              "      <td>NaN</td>\n",
              "      <td>Albania</td>\n",
              "      <td>0</td>\n",
              "      <td>0</td>\n",
              "      <td>0</td>\n",
              "      <td>0</td>\n",
              "      <td>0</td>\n",
              "      <td>0</td>\n",
              "      <td>0</td>\n",
              "      <td>0</td>\n",
              "      <td>0</td>\n",
              "      <td>0</td>\n",
              "      <td>0</td>\n",
              "      <td>0</td>\n",
              "      <td>0</td>\n",
              "      <td>0</td>\n",
              "      <td>0</td>\n",
              "      <td>0</td>\n",
              "      <td>0</td>\n",
              "      <td>0</td>\n",
              "      <td>0</td>\n",
              "      <td>0</td>\n",
              "      <td>0</td>\n",
              "      <td>0</td>\n",
              "      <td>0</td>\n",
              "      <td>0</td>\n",
              "      <td>0</td>\n",
              "      <td>0</td>\n",
              "      <td>0</td>\n",
              "      <td>0</td>\n",
              "      <td>0</td>\n",
              "      <td>0</td>\n",
              "      <td>0</td>\n",
              "      <td>0</td>\n",
              "      <td>0</td>\n",
              "      <td>0</td>\n",
              "      <td>0</td>\n",
              "      <td>0</td>\n",
              "      <td>0</td>\n",
              "      <td>0</td>\n",
              "      <td>...</td>\n",
              "      <td>981</td>\n",
              "      <td>989</td>\n",
              "      <td>998</td>\n",
              "      <td>1004</td>\n",
              "      <td>1029</td>\n",
              "      <td>1050</td>\n",
              "      <td>1076</td>\n",
              "      <td>1099</td>\n",
              "      <td>1122</td>\n",
              "      <td>1137</td>\n",
              "      <td>1143</td>\n",
              "      <td>1164</td>\n",
              "      <td>1184</td>\n",
              "      <td>1197</td>\n",
              "      <td>1212</td>\n",
              "      <td>1232</td>\n",
              "      <td>1246</td>\n",
              "      <td>1263</td>\n",
              "      <td>1299</td>\n",
              "      <td>1341</td>\n",
              "      <td>1385</td>\n",
              "      <td>1416</td>\n",
              "      <td>1464</td>\n",
              "      <td>1521</td>\n",
              "      <td>1590</td>\n",
              "      <td>1672</td>\n",
              "      <td>1722</td>\n",
              "      <td>1788</td>\n",
              "      <td>1838</td>\n",
              "      <td>1891</td>\n",
              "      <td>1962</td>\n",
              "      <td>1995</td>\n",
              "      <td>2047</td>\n",
              "      <td>2114</td>\n",
              "      <td>2192</td>\n",
              "      <td>2269</td>\n",
              "      <td>2330</td>\n",
              "      <td>2402</td>\n",
              "      <td>2466</td>\n",
              "      <td>2535</td>\n",
              "    </tr>\n",
              "    <tr>\n",
              "      <th>2</th>\n",
              "      <td>NaN</td>\n",
              "      <td>Algeria</td>\n",
              "      <td>0</td>\n",
              "      <td>0</td>\n",
              "      <td>0</td>\n",
              "      <td>0</td>\n",
              "      <td>0</td>\n",
              "      <td>0</td>\n",
              "      <td>0</td>\n",
              "      <td>0</td>\n",
              "      <td>0</td>\n",
              "      <td>0</td>\n",
              "      <td>0</td>\n",
              "      <td>0</td>\n",
              "      <td>0</td>\n",
              "      <td>0</td>\n",
              "      <td>0</td>\n",
              "      <td>0</td>\n",
              "      <td>0</td>\n",
              "      <td>0</td>\n",
              "      <td>0</td>\n",
              "      <td>0</td>\n",
              "      <td>0</td>\n",
              "      <td>0</td>\n",
              "      <td>0</td>\n",
              "      <td>0</td>\n",
              "      <td>0</td>\n",
              "      <td>0</td>\n",
              "      <td>0</td>\n",
              "      <td>0</td>\n",
              "      <td>0</td>\n",
              "      <td>0</td>\n",
              "      <td>0</td>\n",
              "      <td>0</td>\n",
              "      <td>0</td>\n",
              "      <td>0</td>\n",
              "      <td>1</td>\n",
              "      <td>1</td>\n",
              "      <td>1</td>\n",
              "      <td>1</td>\n",
              "      <td>...</td>\n",
              "      <td>7918</td>\n",
              "      <td>8113</td>\n",
              "      <td>8306</td>\n",
              "      <td>8503</td>\n",
              "      <td>8697</td>\n",
              "      <td>8857</td>\n",
              "      <td>8997</td>\n",
              "      <td>9134</td>\n",
              "      <td>9267</td>\n",
              "      <td>9394</td>\n",
              "      <td>9513</td>\n",
              "      <td>9626</td>\n",
              "      <td>9733</td>\n",
              "      <td>9831</td>\n",
              "      <td>9935</td>\n",
              "      <td>10050</td>\n",
              "      <td>10154</td>\n",
              "      <td>10265</td>\n",
              "      <td>10382</td>\n",
              "      <td>10484</td>\n",
              "      <td>10589</td>\n",
              "      <td>10698</td>\n",
              "      <td>10810</td>\n",
              "      <td>10919</td>\n",
              "      <td>11031</td>\n",
              "      <td>11147</td>\n",
              "      <td>11268</td>\n",
              "      <td>11385</td>\n",
              "      <td>11504</td>\n",
              "      <td>11631</td>\n",
              "      <td>11771</td>\n",
              "      <td>11920</td>\n",
              "      <td>12076</td>\n",
              "      <td>12248</td>\n",
              "      <td>12445</td>\n",
              "      <td>12685</td>\n",
              "      <td>12968</td>\n",
              "      <td>13273</td>\n",
              "      <td>13571</td>\n",
              "      <td>13907</td>\n",
              "    </tr>\n",
              "    <tr>\n",
              "      <th>3</th>\n",
              "      <td>NaN</td>\n",
              "      <td>Andorra</td>\n",
              "      <td>0</td>\n",
              "      <td>0</td>\n",
              "      <td>0</td>\n",
              "      <td>0</td>\n",
              "      <td>0</td>\n",
              "      <td>0</td>\n",
              "      <td>0</td>\n",
              "      <td>0</td>\n",
              "      <td>0</td>\n",
              "      <td>0</td>\n",
              "      <td>0</td>\n",
              "      <td>0</td>\n",
              "      <td>0</td>\n",
              "      <td>0</td>\n",
              "      <td>0</td>\n",
              "      <td>0</td>\n",
              "      <td>0</td>\n",
              "      <td>0</td>\n",
              "      <td>0</td>\n",
              "      <td>0</td>\n",
              "      <td>0</td>\n",
              "      <td>0</td>\n",
              "      <td>0</td>\n",
              "      <td>0</td>\n",
              "      <td>0</td>\n",
              "      <td>0</td>\n",
              "      <td>0</td>\n",
              "      <td>0</td>\n",
              "      <td>0</td>\n",
              "      <td>0</td>\n",
              "      <td>0</td>\n",
              "      <td>0</td>\n",
              "      <td>0</td>\n",
              "      <td>0</td>\n",
              "      <td>0</td>\n",
              "      <td>0</td>\n",
              "      <td>0</td>\n",
              "      <td>0</td>\n",
              "      <td>...</td>\n",
              "      <td>762</td>\n",
              "      <td>762</td>\n",
              "      <td>762</td>\n",
              "      <td>763</td>\n",
              "      <td>763</td>\n",
              "      <td>763</td>\n",
              "      <td>763</td>\n",
              "      <td>764</td>\n",
              "      <td>764</td>\n",
              "      <td>764</td>\n",
              "      <td>765</td>\n",
              "      <td>844</td>\n",
              "      <td>851</td>\n",
              "      <td>852</td>\n",
              "      <td>852</td>\n",
              "      <td>852</td>\n",
              "      <td>852</td>\n",
              "      <td>852</td>\n",
              "      <td>852</td>\n",
              "      <td>852</td>\n",
              "      <td>852</td>\n",
              "      <td>853</td>\n",
              "      <td>853</td>\n",
              "      <td>853</td>\n",
              "      <td>853</td>\n",
              "      <td>854</td>\n",
              "      <td>854</td>\n",
              "      <td>855</td>\n",
              "      <td>855</td>\n",
              "      <td>855</td>\n",
              "      <td>855</td>\n",
              "      <td>855</td>\n",
              "      <td>855</td>\n",
              "      <td>855</td>\n",
              "      <td>855</td>\n",
              "      <td>855</td>\n",
              "      <td>855</td>\n",
              "      <td>855</td>\n",
              "      <td>855</td>\n",
              "      <td>855</td>\n",
              "    </tr>\n",
              "    <tr>\n",
              "      <th>4</th>\n",
              "      <td>NaN</td>\n",
              "      <td>Angola</td>\n",
              "      <td>0</td>\n",
              "      <td>0</td>\n",
              "      <td>0</td>\n",
              "      <td>0</td>\n",
              "      <td>0</td>\n",
              "      <td>0</td>\n",
              "      <td>0</td>\n",
              "      <td>0</td>\n",
              "      <td>0</td>\n",
              "      <td>0</td>\n",
              "      <td>0</td>\n",
              "      <td>0</td>\n",
              "      <td>0</td>\n",
              "      <td>0</td>\n",
              "      <td>0</td>\n",
              "      <td>0</td>\n",
              "      <td>0</td>\n",
              "      <td>0</td>\n",
              "      <td>0</td>\n",
              "      <td>0</td>\n",
              "      <td>0</td>\n",
              "      <td>0</td>\n",
              "      <td>0</td>\n",
              "      <td>0</td>\n",
              "      <td>0</td>\n",
              "      <td>0</td>\n",
              "      <td>0</td>\n",
              "      <td>0</td>\n",
              "      <td>0</td>\n",
              "      <td>0</td>\n",
              "      <td>0</td>\n",
              "      <td>0</td>\n",
              "      <td>0</td>\n",
              "      <td>0</td>\n",
              "      <td>0</td>\n",
              "      <td>0</td>\n",
              "      <td>0</td>\n",
              "      <td>0</td>\n",
              "      <td>...</td>\n",
              "      <td>60</td>\n",
              "      <td>61</td>\n",
              "      <td>69</td>\n",
              "      <td>70</td>\n",
              "      <td>70</td>\n",
              "      <td>71</td>\n",
              "      <td>74</td>\n",
              "      <td>81</td>\n",
              "      <td>84</td>\n",
              "      <td>86</td>\n",
              "      <td>86</td>\n",
              "      <td>86</td>\n",
              "      <td>86</td>\n",
              "      <td>86</td>\n",
              "      <td>86</td>\n",
              "      <td>88</td>\n",
              "      <td>91</td>\n",
              "      <td>92</td>\n",
              "      <td>96</td>\n",
              "      <td>113</td>\n",
              "      <td>118</td>\n",
              "      <td>130</td>\n",
              "      <td>138</td>\n",
              "      <td>140</td>\n",
              "      <td>142</td>\n",
              "      <td>148</td>\n",
              "      <td>155</td>\n",
              "      <td>166</td>\n",
              "      <td>172</td>\n",
              "      <td>176</td>\n",
              "      <td>183</td>\n",
              "      <td>186</td>\n",
              "      <td>189</td>\n",
              "      <td>197</td>\n",
              "      <td>212</td>\n",
              "      <td>212</td>\n",
              "      <td>259</td>\n",
              "      <td>267</td>\n",
              "      <td>276</td>\n",
              "      <td>284</td>\n",
              "    </tr>\n",
              "  </tbody>\n",
              "</table>\n",
              "<p>5 rows × 163 columns</p>\n",
              "</div>"
            ],
            "text/plain": [
              "  Province/State Country/Region  1/22/20  ...  6/28/20  6/29/20  6/30/20\n",
              "0            NaN    Afghanistan        0  ...    30967    31238    31517\n",
              "1            NaN        Albania        0  ...     2402     2466     2535\n",
              "2            NaN        Algeria        0  ...    13273    13571    13907\n",
              "3            NaN        Andorra        0  ...      855      855      855\n",
              "4            NaN         Angola        0  ...      267      276      284\n",
              "\n",
              "[5 rows x 163 columns]"
            ]
          },
          "metadata": {
            "tags": []
          },
          "execution_count": 60
        }
      ]
    },
    {
      "cell_type": "code",
      "metadata": {
        "id": "vFtgrHxpl3GY",
        "colab_type": "code",
        "colab": {}
      },
      "source": [
        "countires= list(corona_dataset_csv['Country/Region'])"
      ],
      "execution_count": 61,
      "outputs": []
    },
    {
      "cell_type": "markdown",
      "metadata": {
        "id": "P3R97YZYjvmf",
        "colab_type": "text"
      },
      "source": [
        "### Task 2.3: Aggregating the rows by the country"
      ]
    },
    {
      "cell_type": "code",
      "metadata": {
        "id": "mFdcMXQkjvmg",
        "colab_type": "code",
        "colab": {}
      },
      "source": [
        "corona_dataset_aggregated=corona_dataset_csv.groupby(\"Country/Region\").sum()"
      ],
      "execution_count": 62,
      "outputs": []
    },
    {
      "cell_type": "code",
      "metadata": {
        "id": "f3qZakqwjvmj",
        "colab_type": "code",
        "colab": {
          "base_uri": "https://localhost:8080/",
          "height": 282
        },
        "outputId": "26edac74-664c-4cb9-f32e-b731629382f3"
      },
      "source": [
        "corona_dataset_aggregated.head()"
      ],
      "execution_count": 63,
      "outputs": [
        {
          "output_type": "execute_result",
          "data": {
            "text/html": [
              "<div>\n",
              "<style scoped>\n",
              "    .dataframe tbody tr th:only-of-type {\n",
              "        vertical-align: middle;\n",
              "    }\n",
              "\n",
              "    .dataframe tbody tr th {\n",
              "        vertical-align: top;\n",
              "    }\n",
              "\n",
              "    .dataframe thead th {\n",
              "        text-align: right;\n",
              "    }\n",
              "</style>\n",
              "<table border=\"1\" class=\"dataframe\">\n",
              "  <thead>\n",
              "    <tr style=\"text-align: right;\">\n",
              "      <th></th>\n",
              "      <th>1/22/20</th>\n",
              "      <th>1/23/20</th>\n",
              "      <th>1/24/20</th>\n",
              "      <th>1/25/20</th>\n",
              "      <th>1/26/20</th>\n",
              "      <th>1/27/20</th>\n",
              "      <th>1/28/20</th>\n",
              "      <th>1/29/20</th>\n",
              "      <th>1/30/20</th>\n",
              "      <th>1/31/20</th>\n",
              "      <th>2/1/20</th>\n",
              "      <th>2/2/20</th>\n",
              "      <th>2/3/20</th>\n",
              "      <th>2/4/20</th>\n",
              "      <th>2/5/20</th>\n",
              "      <th>2/6/20</th>\n",
              "      <th>2/7/20</th>\n",
              "      <th>2/8/20</th>\n",
              "      <th>2/9/20</th>\n",
              "      <th>2/10/20</th>\n",
              "      <th>2/11/20</th>\n",
              "      <th>2/12/20</th>\n",
              "      <th>2/13/20</th>\n",
              "      <th>2/14/20</th>\n",
              "      <th>2/15/20</th>\n",
              "      <th>2/16/20</th>\n",
              "      <th>2/17/20</th>\n",
              "      <th>2/18/20</th>\n",
              "      <th>2/19/20</th>\n",
              "      <th>2/20/20</th>\n",
              "      <th>2/21/20</th>\n",
              "      <th>2/22/20</th>\n",
              "      <th>2/23/20</th>\n",
              "      <th>2/24/20</th>\n",
              "      <th>2/25/20</th>\n",
              "      <th>2/26/20</th>\n",
              "      <th>2/27/20</th>\n",
              "      <th>2/28/20</th>\n",
              "      <th>2/29/20</th>\n",
              "      <th>3/1/20</th>\n",
              "      <th>...</th>\n",
              "      <th>5/22/20</th>\n",
              "      <th>5/23/20</th>\n",
              "      <th>5/24/20</th>\n",
              "      <th>5/25/20</th>\n",
              "      <th>5/26/20</th>\n",
              "      <th>5/27/20</th>\n",
              "      <th>5/28/20</th>\n",
              "      <th>5/29/20</th>\n",
              "      <th>5/30/20</th>\n",
              "      <th>5/31/20</th>\n",
              "      <th>6/1/20</th>\n",
              "      <th>6/2/20</th>\n",
              "      <th>6/3/20</th>\n",
              "      <th>6/4/20</th>\n",
              "      <th>6/5/20</th>\n",
              "      <th>6/6/20</th>\n",
              "      <th>6/7/20</th>\n",
              "      <th>6/8/20</th>\n",
              "      <th>6/9/20</th>\n",
              "      <th>6/10/20</th>\n",
              "      <th>6/11/20</th>\n",
              "      <th>6/12/20</th>\n",
              "      <th>6/13/20</th>\n",
              "      <th>6/14/20</th>\n",
              "      <th>6/15/20</th>\n",
              "      <th>6/16/20</th>\n",
              "      <th>6/17/20</th>\n",
              "      <th>6/18/20</th>\n",
              "      <th>6/19/20</th>\n",
              "      <th>6/20/20</th>\n",
              "      <th>6/21/20</th>\n",
              "      <th>6/22/20</th>\n",
              "      <th>6/23/20</th>\n",
              "      <th>6/24/20</th>\n",
              "      <th>6/25/20</th>\n",
              "      <th>6/26/20</th>\n",
              "      <th>6/27/20</th>\n",
              "      <th>6/28/20</th>\n",
              "      <th>6/29/20</th>\n",
              "      <th>6/30/20</th>\n",
              "    </tr>\n",
              "    <tr>\n",
              "      <th>Country/Region</th>\n",
              "      <th></th>\n",
              "      <th></th>\n",
              "      <th></th>\n",
              "      <th></th>\n",
              "      <th></th>\n",
              "      <th></th>\n",
              "      <th></th>\n",
              "      <th></th>\n",
              "      <th></th>\n",
              "      <th></th>\n",
              "      <th></th>\n",
              "      <th></th>\n",
              "      <th></th>\n",
              "      <th></th>\n",
              "      <th></th>\n",
              "      <th></th>\n",
              "      <th></th>\n",
              "      <th></th>\n",
              "      <th></th>\n",
              "      <th></th>\n",
              "      <th></th>\n",
              "      <th></th>\n",
              "      <th></th>\n",
              "      <th></th>\n",
              "      <th></th>\n",
              "      <th></th>\n",
              "      <th></th>\n",
              "      <th></th>\n",
              "      <th></th>\n",
              "      <th></th>\n",
              "      <th></th>\n",
              "      <th></th>\n",
              "      <th></th>\n",
              "      <th></th>\n",
              "      <th></th>\n",
              "      <th></th>\n",
              "      <th></th>\n",
              "      <th></th>\n",
              "      <th></th>\n",
              "      <th></th>\n",
              "      <th></th>\n",
              "      <th></th>\n",
              "      <th></th>\n",
              "      <th></th>\n",
              "      <th></th>\n",
              "      <th></th>\n",
              "      <th></th>\n",
              "      <th></th>\n",
              "      <th></th>\n",
              "      <th></th>\n",
              "      <th></th>\n",
              "      <th></th>\n",
              "      <th></th>\n",
              "      <th></th>\n",
              "      <th></th>\n",
              "      <th></th>\n",
              "      <th></th>\n",
              "      <th></th>\n",
              "      <th></th>\n",
              "      <th></th>\n",
              "      <th></th>\n",
              "      <th></th>\n",
              "      <th></th>\n",
              "      <th></th>\n",
              "      <th></th>\n",
              "      <th></th>\n",
              "      <th></th>\n",
              "      <th></th>\n",
              "      <th></th>\n",
              "      <th></th>\n",
              "      <th></th>\n",
              "      <th></th>\n",
              "      <th></th>\n",
              "      <th></th>\n",
              "      <th></th>\n",
              "      <th></th>\n",
              "      <th></th>\n",
              "      <th></th>\n",
              "      <th></th>\n",
              "      <th></th>\n",
              "      <th></th>\n",
              "    </tr>\n",
              "  </thead>\n",
              "  <tbody>\n",
              "    <tr>\n",
              "      <th>Afghanistan</th>\n",
              "      <td>0</td>\n",
              "      <td>0</td>\n",
              "      <td>0</td>\n",
              "      <td>0</td>\n",
              "      <td>0</td>\n",
              "      <td>0</td>\n",
              "      <td>0</td>\n",
              "      <td>0</td>\n",
              "      <td>0</td>\n",
              "      <td>0</td>\n",
              "      <td>0</td>\n",
              "      <td>0</td>\n",
              "      <td>0</td>\n",
              "      <td>0</td>\n",
              "      <td>0</td>\n",
              "      <td>0</td>\n",
              "      <td>0</td>\n",
              "      <td>0</td>\n",
              "      <td>0</td>\n",
              "      <td>0</td>\n",
              "      <td>0</td>\n",
              "      <td>0</td>\n",
              "      <td>0</td>\n",
              "      <td>0</td>\n",
              "      <td>0</td>\n",
              "      <td>0</td>\n",
              "      <td>0</td>\n",
              "      <td>0</td>\n",
              "      <td>0</td>\n",
              "      <td>0</td>\n",
              "      <td>0</td>\n",
              "      <td>0</td>\n",
              "      <td>0</td>\n",
              "      <td>1</td>\n",
              "      <td>1</td>\n",
              "      <td>1</td>\n",
              "      <td>1</td>\n",
              "      <td>1</td>\n",
              "      <td>1</td>\n",
              "      <td>1</td>\n",
              "      <td>...</td>\n",
              "      <td>9216</td>\n",
              "      <td>9998</td>\n",
              "      <td>10582</td>\n",
              "      <td>11173</td>\n",
              "      <td>11831</td>\n",
              "      <td>12456</td>\n",
              "      <td>13036</td>\n",
              "      <td>13659</td>\n",
              "      <td>14525</td>\n",
              "      <td>15205</td>\n",
              "      <td>15750</td>\n",
              "      <td>16509</td>\n",
              "      <td>17267</td>\n",
              "      <td>18054</td>\n",
              "      <td>18969</td>\n",
              "      <td>19551</td>\n",
              "      <td>20342</td>\n",
              "      <td>20917</td>\n",
              "      <td>21459</td>\n",
              "      <td>22142</td>\n",
              "      <td>22890</td>\n",
              "      <td>23546</td>\n",
              "      <td>24102</td>\n",
              "      <td>24766</td>\n",
              "      <td>25527</td>\n",
              "      <td>26310</td>\n",
              "      <td>26874</td>\n",
              "      <td>27532</td>\n",
              "      <td>27878</td>\n",
              "      <td>28424</td>\n",
              "      <td>28833</td>\n",
              "      <td>29157</td>\n",
              "      <td>29481</td>\n",
              "      <td>29640</td>\n",
              "      <td>30175</td>\n",
              "      <td>30451</td>\n",
              "      <td>30616</td>\n",
              "      <td>30967</td>\n",
              "      <td>31238</td>\n",
              "      <td>31517</td>\n",
              "    </tr>\n",
              "    <tr>\n",
              "      <th>Albania</th>\n",
              "      <td>0</td>\n",
              "      <td>0</td>\n",
              "      <td>0</td>\n",
              "      <td>0</td>\n",
              "      <td>0</td>\n",
              "      <td>0</td>\n",
              "      <td>0</td>\n",
              "      <td>0</td>\n",
              "      <td>0</td>\n",
              "      <td>0</td>\n",
              "      <td>0</td>\n",
              "      <td>0</td>\n",
              "      <td>0</td>\n",
              "      <td>0</td>\n",
              "      <td>0</td>\n",
              "      <td>0</td>\n",
              "      <td>0</td>\n",
              "      <td>0</td>\n",
              "      <td>0</td>\n",
              "      <td>0</td>\n",
              "      <td>0</td>\n",
              "      <td>0</td>\n",
              "      <td>0</td>\n",
              "      <td>0</td>\n",
              "      <td>0</td>\n",
              "      <td>0</td>\n",
              "      <td>0</td>\n",
              "      <td>0</td>\n",
              "      <td>0</td>\n",
              "      <td>0</td>\n",
              "      <td>0</td>\n",
              "      <td>0</td>\n",
              "      <td>0</td>\n",
              "      <td>0</td>\n",
              "      <td>0</td>\n",
              "      <td>0</td>\n",
              "      <td>0</td>\n",
              "      <td>0</td>\n",
              "      <td>0</td>\n",
              "      <td>0</td>\n",
              "      <td>...</td>\n",
              "      <td>981</td>\n",
              "      <td>989</td>\n",
              "      <td>998</td>\n",
              "      <td>1004</td>\n",
              "      <td>1029</td>\n",
              "      <td>1050</td>\n",
              "      <td>1076</td>\n",
              "      <td>1099</td>\n",
              "      <td>1122</td>\n",
              "      <td>1137</td>\n",
              "      <td>1143</td>\n",
              "      <td>1164</td>\n",
              "      <td>1184</td>\n",
              "      <td>1197</td>\n",
              "      <td>1212</td>\n",
              "      <td>1232</td>\n",
              "      <td>1246</td>\n",
              "      <td>1263</td>\n",
              "      <td>1299</td>\n",
              "      <td>1341</td>\n",
              "      <td>1385</td>\n",
              "      <td>1416</td>\n",
              "      <td>1464</td>\n",
              "      <td>1521</td>\n",
              "      <td>1590</td>\n",
              "      <td>1672</td>\n",
              "      <td>1722</td>\n",
              "      <td>1788</td>\n",
              "      <td>1838</td>\n",
              "      <td>1891</td>\n",
              "      <td>1962</td>\n",
              "      <td>1995</td>\n",
              "      <td>2047</td>\n",
              "      <td>2114</td>\n",
              "      <td>2192</td>\n",
              "      <td>2269</td>\n",
              "      <td>2330</td>\n",
              "      <td>2402</td>\n",
              "      <td>2466</td>\n",
              "      <td>2535</td>\n",
              "    </tr>\n",
              "    <tr>\n",
              "      <th>Algeria</th>\n",
              "      <td>0</td>\n",
              "      <td>0</td>\n",
              "      <td>0</td>\n",
              "      <td>0</td>\n",
              "      <td>0</td>\n",
              "      <td>0</td>\n",
              "      <td>0</td>\n",
              "      <td>0</td>\n",
              "      <td>0</td>\n",
              "      <td>0</td>\n",
              "      <td>0</td>\n",
              "      <td>0</td>\n",
              "      <td>0</td>\n",
              "      <td>0</td>\n",
              "      <td>0</td>\n",
              "      <td>0</td>\n",
              "      <td>0</td>\n",
              "      <td>0</td>\n",
              "      <td>0</td>\n",
              "      <td>0</td>\n",
              "      <td>0</td>\n",
              "      <td>0</td>\n",
              "      <td>0</td>\n",
              "      <td>0</td>\n",
              "      <td>0</td>\n",
              "      <td>0</td>\n",
              "      <td>0</td>\n",
              "      <td>0</td>\n",
              "      <td>0</td>\n",
              "      <td>0</td>\n",
              "      <td>0</td>\n",
              "      <td>0</td>\n",
              "      <td>0</td>\n",
              "      <td>0</td>\n",
              "      <td>1</td>\n",
              "      <td>1</td>\n",
              "      <td>1</td>\n",
              "      <td>1</td>\n",
              "      <td>1</td>\n",
              "      <td>1</td>\n",
              "      <td>...</td>\n",
              "      <td>7918</td>\n",
              "      <td>8113</td>\n",
              "      <td>8306</td>\n",
              "      <td>8503</td>\n",
              "      <td>8697</td>\n",
              "      <td>8857</td>\n",
              "      <td>8997</td>\n",
              "      <td>9134</td>\n",
              "      <td>9267</td>\n",
              "      <td>9394</td>\n",
              "      <td>9513</td>\n",
              "      <td>9626</td>\n",
              "      <td>9733</td>\n",
              "      <td>9831</td>\n",
              "      <td>9935</td>\n",
              "      <td>10050</td>\n",
              "      <td>10154</td>\n",
              "      <td>10265</td>\n",
              "      <td>10382</td>\n",
              "      <td>10484</td>\n",
              "      <td>10589</td>\n",
              "      <td>10698</td>\n",
              "      <td>10810</td>\n",
              "      <td>10919</td>\n",
              "      <td>11031</td>\n",
              "      <td>11147</td>\n",
              "      <td>11268</td>\n",
              "      <td>11385</td>\n",
              "      <td>11504</td>\n",
              "      <td>11631</td>\n",
              "      <td>11771</td>\n",
              "      <td>11920</td>\n",
              "      <td>12076</td>\n",
              "      <td>12248</td>\n",
              "      <td>12445</td>\n",
              "      <td>12685</td>\n",
              "      <td>12968</td>\n",
              "      <td>13273</td>\n",
              "      <td>13571</td>\n",
              "      <td>13907</td>\n",
              "    </tr>\n",
              "    <tr>\n",
              "      <th>Andorra</th>\n",
              "      <td>0</td>\n",
              "      <td>0</td>\n",
              "      <td>0</td>\n",
              "      <td>0</td>\n",
              "      <td>0</td>\n",
              "      <td>0</td>\n",
              "      <td>0</td>\n",
              "      <td>0</td>\n",
              "      <td>0</td>\n",
              "      <td>0</td>\n",
              "      <td>0</td>\n",
              "      <td>0</td>\n",
              "      <td>0</td>\n",
              "      <td>0</td>\n",
              "      <td>0</td>\n",
              "      <td>0</td>\n",
              "      <td>0</td>\n",
              "      <td>0</td>\n",
              "      <td>0</td>\n",
              "      <td>0</td>\n",
              "      <td>0</td>\n",
              "      <td>0</td>\n",
              "      <td>0</td>\n",
              "      <td>0</td>\n",
              "      <td>0</td>\n",
              "      <td>0</td>\n",
              "      <td>0</td>\n",
              "      <td>0</td>\n",
              "      <td>0</td>\n",
              "      <td>0</td>\n",
              "      <td>0</td>\n",
              "      <td>0</td>\n",
              "      <td>0</td>\n",
              "      <td>0</td>\n",
              "      <td>0</td>\n",
              "      <td>0</td>\n",
              "      <td>0</td>\n",
              "      <td>0</td>\n",
              "      <td>0</td>\n",
              "      <td>0</td>\n",
              "      <td>...</td>\n",
              "      <td>762</td>\n",
              "      <td>762</td>\n",
              "      <td>762</td>\n",
              "      <td>763</td>\n",
              "      <td>763</td>\n",
              "      <td>763</td>\n",
              "      <td>763</td>\n",
              "      <td>764</td>\n",
              "      <td>764</td>\n",
              "      <td>764</td>\n",
              "      <td>765</td>\n",
              "      <td>844</td>\n",
              "      <td>851</td>\n",
              "      <td>852</td>\n",
              "      <td>852</td>\n",
              "      <td>852</td>\n",
              "      <td>852</td>\n",
              "      <td>852</td>\n",
              "      <td>852</td>\n",
              "      <td>852</td>\n",
              "      <td>852</td>\n",
              "      <td>853</td>\n",
              "      <td>853</td>\n",
              "      <td>853</td>\n",
              "      <td>853</td>\n",
              "      <td>854</td>\n",
              "      <td>854</td>\n",
              "      <td>855</td>\n",
              "      <td>855</td>\n",
              "      <td>855</td>\n",
              "      <td>855</td>\n",
              "      <td>855</td>\n",
              "      <td>855</td>\n",
              "      <td>855</td>\n",
              "      <td>855</td>\n",
              "      <td>855</td>\n",
              "      <td>855</td>\n",
              "      <td>855</td>\n",
              "      <td>855</td>\n",
              "      <td>855</td>\n",
              "    </tr>\n",
              "    <tr>\n",
              "      <th>Angola</th>\n",
              "      <td>0</td>\n",
              "      <td>0</td>\n",
              "      <td>0</td>\n",
              "      <td>0</td>\n",
              "      <td>0</td>\n",
              "      <td>0</td>\n",
              "      <td>0</td>\n",
              "      <td>0</td>\n",
              "      <td>0</td>\n",
              "      <td>0</td>\n",
              "      <td>0</td>\n",
              "      <td>0</td>\n",
              "      <td>0</td>\n",
              "      <td>0</td>\n",
              "      <td>0</td>\n",
              "      <td>0</td>\n",
              "      <td>0</td>\n",
              "      <td>0</td>\n",
              "      <td>0</td>\n",
              "      <td>0</td>\n",
              "      <td>0</td>\n",
              "      <td>0</td>\n",
              "      <td>0</td>\n",
              "      <td>0</td>\n",
              "      <td>0</td>\n",
              "      <td>0</td>\n",
              "      <td>0</td>\n",
              "      <td>0</td>\n",
              "      <td>0</td>\n",
              "      <td>0</td>\n",
              "      <td>0</td>\n",
              "      <td>0</td>\n",
              "      <td>0</td>\n",
              "      <td>0</td>\n",
              "      <td>0</td>\n",
              "      <td>0</td>\n",
              "      <td>0</td>\n",
              "      <td>0</td>\n",
              "      <td>0</td>\n",
              "      <td>0</td>\n",
              "      <td>...</td>\n",
              "      <td>60</td>\n",
              "      <td>61</td>\n",
              "      <td>69</td>\n",
              "      <td>70</td>\n",
              "      <td>70</td>\n",
              "      <td>71</td>\n",
              "      <td>74</td>\n",
              "      <td>81</td>\n",
              "      <td>84</td>\n",
              "      <td>86</td>\n",
              "      <td>86</td>\n",
              "      <td>86</td>\n",
              "      <td>86</td>\n",
              "      <td>86</td>\n",
              "      <td>86</td>\n",
              "      <td>88</td>\n",
              "      <td>91</td>\n",
              "      <td>92</td>\n",
              "      <td>96</td>\n",
              "      <td>113</td>\n",
              "      <td>118</td>\n",
              "      <td>130</td>\n",
              "      <td>138</td>\n",
              "      <td>140</td>\n",
              "      <td>142</td>\n",
              "      <td>148</td>\n",
              "      <td>155</td>\n",
              "      <td>166</td>\n",
              "      <td>172</td>\n",
              "      <td>176</td>\n",
              "      <td>183</td>\n",
              "      <td>186</td>\n",
              "      <td>189</td>\n",
              "      <td>197</td>\n",
              "      <td>212</td>\n",
              "      <td>212</td>\n",
              "      <td>259</td>\n",
              "      <td>267</td>\n",
              "      <td>276</td>\n",
              "      <td>284</td>\n",
              "    </tr>\n",
              "  </tbody>\n",
              "</table>\n",
              "<p>5 rows × 161 columns</p>\n",
              "</div>"
            ],
            "text/plain": [
              "                1/22/20  1/23/20  1/24/20  ...  6/28/20  6/29/20  6/30/20\n",
              "Country/Region                             ...                           \n",
              "Afghanistan           0        0        0  ...    30967    31238    31517\n",
              "Albania               0        0        0  ...     2402     2466     2535\n",
              "Algeria               0        0        0  ...    13273    13571    13907\n",
              "Andorra               0        0        0  ...      855      855      855\n",
              "Angola                0        0        0  ...      267      276      284\n",
              "\n",
              "[5 rows x 161 columns]"
            ]
          },
          "metadata": {
            "tags": []
          },
          "execution_count": 63
        }
      ]
    },
    {
      "cell_type": "code",
      "metadata": {
        "id": "kyS-FnT1l1Yt",
        "colab_type": "code",
        "colab": {}
      },
      "source": [
        "corona_dataset_aggregated.to_csv(\"Aggregated_Positive.csv\")"
      ],
      "execution_count": 64,
      "outputs": []
    },
    {
      "cell_type": "code",
      "metadata": {
        "id": "TkVkKdkljvmm",
        "colab_type": "code",
        "colab": {
          "base_uri": "https://localhost:8080/",
          "height": 35
        },
        "outputId": "9a572acb-a5c7-4c91-f21b-755df3589661"
      },
      "source": [
        "corona_dataset_aggregated.shape"
      ],
      "execution_count": 65,
      "outputs": [
        {
          "output_type": "execute_result",
          "data": {
            "text/plain": [
              "(188, 161)"
            ]
          },
          "metadata": {
            "tags": []
          },
          "execution_count": 65
        }
      ]
    },
    {
      "cell_type": "markdown",
      "metadata": {
        "id": "JmTzvmiqjvmq",
        "colab_type": "text"
      },
      "source": [
        "### Task 2.4: Visualizing data related to a country for example China\n",
        "visualization always helps for better understanding of our data."
      ]
    },
    {
      "cell_type": "code",
      "metadata": {
        "id": "iuj6gxb3jvmq",
        "colab_type": "code",
        "colab": {
          "base_uri": "https://localhost:8080/",
          "height": 297
        },
        "outputId": "76aa897e-eee0-413f-c151-4b15debbf484"
      },
      "source": [
        "corona_dataset_aggregated.loc[\"China\"].plot()\n",
        "corona_dataset_aggregated.loc[\"Italy\"].plot()\n",
        "corona_dataset_aggregated.loc[\"Spain\"].plot()\n",
        "corona_dataset_aggregated.loc['India'].plot()\n",
        "plt.legend()\n",
        "plt.xlabel(\"Date\")\n",
        "plt.ylabel(\"Number of Cases\")\n"
      ],
      "execution_count": 66,
      "outputs": [
        {
          "output_type": "execute_result",
          "data": {
            "text/plain": [
              "Text(0, 0.5, 'Number of Cases')"
            ]
          },
          "metadata": {
            "tags": []
          },
          "execution_count": 66
        },
        {
          "output_type": "display_data",
          "data": {
            "image/png": "[encoded data removed]",
            "text/plain": [
              "<Figure size 432x288 with 1 Axes>"
            ]
          },
          "metadata": {
            "tags": [],
            "needs_background": "light"
          }
        }
      ]
    },
    {
      "cell_type": "code",
      "metadata": {
        "id": "_Wg9LY_tpBKV",
        "colab_type": "code",
        "colab": {
          "base_uri": "https://localhost:8080/",
          "height": 307
        },
        "outputId": "d2fafe22-ecd0-4b8f-ba46-415e36700493"
      },
      "source": [
        "\n",
        "\n",
        "corona_dataset_aggregated.loc[\"China\"].plot()\n",
        "corona_dataset_aggregated.loc[\"Italy\"].plot()\n",
        "corona_dataset_aggregated.loc[\"Spain\"].plot()\n",
        "corona_dataset_aggregated.loc['India'].plot()\n",
        "corona_dataset_aggregated.loc['Brazil'].plot()\n",
        "plt.legend()\n",
        "plt.xlabel(\"Date\")\n",
        "plt.ylabel(\"Number of Cases\")"
      ],
      "execution_count": 67,
      "outputs": [
        {
          "output_type": "execute_result",
          "data": {
            "text/plain": [
              "Text(0, 0.5, 'Number of Cases')"
            ]
          },
          "metadata": {
            "tags": []
          },
          "execution_count": 67
        },
        {
          "output_type": "display_data",
          "data": {
            "image/png": "[encoded data removed]",
            "text/plain": [
              "<Figure size 432x288 with 1 Axes>"
            ]
          },
          "metadata": {
            "tags": [],
            "needs_background": "light"
          }
        }
      ]
    },
    {
      "cell_type": "code",
      "metadata": {
        "id": "QldLIptIrJcD",
        "colab_type": "code",
        "colab": {}
      },
      "source": [
        "countries=list(corona_dataset_aggregated.index)"
      ],
      "execution_count": 68,
      "outputs": []
    },
    {
      "cell_type": "code",
      "metadata": {
        "id": "l1rRf6j4riRf",
        "colab_type": "code",
        "colab": {
          "base_uri": "https://localhost:8080/",
          "height": 1000
        },
        "outputId": "e5e341b5-c038-492e-eac5-a2f196b2997e"
      },
      "source": [
        "countries"
      ],
      "execution_count": 69,
      "outputs": [
        {
          "output_type": "execute_result",
          "data": {
            "text/plain": [
              "['Afghanistan',\n",
              " 'Albania',\n",
              " 'Algeria',\n",
              " 'Andorra',\n",
              " 'Angola',\n",
              " 'Antigua and Barbuda',\n",
              " 'Argentina',\n",
              " 'Armenia',\n",
              " 'Australia',\n",
              " 'Austria',\n",
              " 'Azerbaijan',\n",
              " 'Bahamas',\n",
              " 'Bahrain',\n",
              " 'Bangladesh',\n",
              " 'Barbados',\n",
              " 'Belarus',\n",
              " 'Belgium',\n",
              " 'Belize',\n",
              " 'Benin',\n",
              " 'Bhutan',\n",
              " 'Bolivia',\n",
              " 'Bosnia and Herzegovina',\n",
              " 'Botswana',\n",
              " 'Brazil',\n",
              " 'Brunei',\n",
              " 'Bulgaria',\n",
              " 'Burkina Faso',\n",
              " 'Burma',\n",
              " 'Burundi',\n",
              " 'Cabo Verde',\n",
              " 'Cambodia',\n",
              " 'Cameroon',\n",
              " 'Canada',\n",
              " 'Central African Republic',\n",
              " 'Chad',\n",
              " 'Chile',\n",
              " 'China',\n",
              " 'Colombia',\n",
              " 'Comoros',\n",
              " 'Congo (Brazzaville)',\n",
              " 'Congo (Kinshasa)',\n",
              " 'Costa Rica',\n",
              " \"Cote d'Ivoire\",\n",
              " 'Croatia',\n",
              " 'Cuba',\n",
              " 'Cyprus',\n",
              " 'Czechia',\n",
              " 'Denmark',\n",
              " 'Diamond Princess',\n",
              " 'Djibouti',\n",
              " 'Dominica',\n",
              " 'Dominican Republic',\n",
              " 'Ecuador',\n",
              " 'Egypt',\n",
              " 'El Salvador',\n",
              " 'Equatorial Guinea',\n",
              " 'Eritrea',\n",
              " 'Estonia',\n",
              " 'Eswatini',\n",
              " 'Ethiopia',\n",
              " 'Fiji',\n",
              " 'Finland',\n",
              " 'France',\n",
              " 'Gabon',\n",
              " 'Gambia',\n",
              " 'Georgia',\n",
              " 'Germany',\n",
              " 'Ghana',\n",
              " 'Greece',\n",
              " 'Grenada',\n",
              " 'Guatemala',\n",
              " 'Guinea',\n",
              " 'Guinea-Bissau',\n",
              " 'Guyana',\n",
              " 'Haiti',\n",
              " 'Holy See',\n",
              " 'Honduras',\n",
              " 'Hungary',\n",
              " 'Iceland',\n",
              " 'India',\n",
              " 'Indonesia',\n",
              " 'Iran',\n",
              " 'Iraq',\n",
              " 'Ireland',\n",
              " 'Israel',\n",
              " 'Italy',\n",
              " 'Jamaica',\n",
              " 'Japan',\n",
              " 'Jordan',\n",
              " 'Kazakhstan',\n",
              " 'Kenya',\n",
              " 'Korea, South',\n",
              " 'Kosovo',\n",
              " 'Kuwait',\n",
              " 'Kyrgyzstan',\n",
              " 'Laos',\n",
              " 'Latvia',\n",
              " 'Lebanon',\n",
              " 'Lesotho',\n",
              " 'Liberia',\n",
              " 'Libya',\n",
              " 'Liechtenstein',\n",
              " 'Lithuania',\n",
              " 'Luxembourg',\n",
              " 'MS Zaandam',\n",
              " 'Madagascar',\n",
              " 'Malawi',\n",
              " 'Malaysia',\n",
              " 'Maldives',\n",
              " 'Mali',\n",
              " 'Malta',\n",
              " 'Mauritania',\n",
              " 'Mauritius',\n",
              " 'Mexico',\n",
              " 'Moldova',\n",
              " 'Monaco',\n",
              " 'Mongolia',\n",
              " 'Montenegro',\n",
              " 'Morocco',\n",
              " 'Mozambique',\n",
              " 'Namibia',\n",
              " 'Nepal',\n",
              " 'Netherlands',\n",
              " 'New Zealand',\n",
              " 'Nicaragua',\n",
              " 'Niger',\n",
              " 'Nigeria',\n",
              " 'North Macedonia',\n",
              " 'Norway',\n",
              " 'Oman',\n",
              " 'Pakistan',\n",
              " 'Panama',\n",
              " 'Papua New Guinea',\n",
              " 'Paraguay',\n",
              " 'Peru',\n",
              " 'Philippines',\n",
              " 'Poland',\n",
              " 'Portugal',\n",
              " 'Qatar',\n",
              " 'Romania',\n",
              " 'Russia',\n",
              " 'Rwanda',\n",
              " 'Saint Kitts and Nevis',\n",
              " 'Saint Lucia',\n",
              " 'Saint Vincent and the Grenadines',\n",
              " 'San Marino',\n",
              " 'Sao Tome and Principe',\n",
              " 'Saudi Arabia',\n",
              " 'Senegal',\n",
              " 'Serbia',\n",
              " 'Seychelles',\n",
              " 'Sierra Leone',\n",
              " 'Singapore',\n",
              " 'Slovakia',\n",
              " 'Slovenia',\n",
              " 'Somalia',\n",
              " 'South Africa',\n",
              " 'South Sudan',\n",
              " 'Spain',\n",
              " 'Sri Lanka',\n",
              " 'Sudan',\n",
              " 'Suriname',\n",
              " 'Sweden',\n",
              " 'Switzerland',\n",
              " 'Syria',\n",
              " 'Taiwan*',\n",
              " 'Tajikistan',\n",
              " 'Tanzania',\n",
              " 'Thailand',\n",
              " 'Timor-Leste',\n",
              " 'Togo',\n",
              " 'Trinidad and Tobago',\n",
              " 'Tunisia',\n",
              " 'Turkey',\n",
              " 'US',\n",
              " 'Uganda',\n",
              " 'Ukraine',\n",
              " 'United Arab Emirates',\n",
              " 'United Kingdom',\n",
              " 'Uruguay',\n",
              " 'Uzbekistan',\n",
              " 'Venezuela',\n",
              " 'Vietnam',\n",
              " 'West Bank and Gaza',\n",
              " 'Western Sahara',\n",
              " 'Yemen',\n",
              " 'Zambia',\n",
              " 'Zimbabwe']"
            ]
          },
          "metadata": {
            "tags": []
          },
          "execution_count": 69
        }
      ]
    },
    {
      "cell_type": "code",
      "metadata": {
        "id": "ppzM4PDJrqlR",
        "colab_type": "code",
        "colab": {
          "base_uri": "https://localhost:8080/",
          "height": 334
        },
        "outputId": "0a327352-56aa-4a98-dbf3-0a4445f0157c"
      },
      "source": [
        "print(countries)\n",
        "lis=['Afghanistan', 'Albania']\n",
        "corona_dataset_aggregated.loc[\"India\"].plot()\n",
        "plt.legend()\n",
        "plt.xlabel(\"Date\")\n",
        "plt.ylabel(\"Number of Cases\")"
      ],
      "execution_count": 70,
      "outputs": [
        {
          "output_type": "stream",
          "text": [
            "['Afghanistan', 'Albania', 'Algeria', 'Andorra', 'Angola', 'Antigua and Barbuda', 'Argentina', 'Armenia', 'Australia', 'Austria', 'Azerbaijan', 'Bahamas', 'Bahrain', 'Bangladesh', 'Barbados', 'Belarus', 'Belgium', 'Belize', 'Benin', 'Bhutan', 'Bolivia', 'Bosnia and Herzegovina', 'Botswana', 'Brazil', 'Brunei', 'Bulgaria', 'Burkina Faso', 'Burma', 'Burundi', 'Cabo Verde', 'Cambodia', 'Cameroon', 'Canada', 'Central African Republic', 'Chad', 'Chile', 'China', 'Colombia', 'Comoros', 'Congo (Brazzaville)', 'Congo (Kinshasa)', 'Costa Rica', \"Cote d'Ivoire\", 'Croatia', 'Cuba', 'Cyprus', 'Czechia', 'Denmark', 'Diamond Princess', 'Djibouti', 'Dominica', 'Dominican Republic', 'Ecuador', 'Egypt', 'El Salvador', 'Equatorial Guinea', 'Eritrea', 'Estonia', 'Eswatini', 'Ethiopia', 'Fiji', 'Finland', 'France', 'Gabon', 'Gambia', 'Georgia', 'Germany', 'Ghana', 'Greece', 'Grenada', 'Guatemala', 'Guinea', 'Guinea-Bissau', 'Guyana', 'Haiti', 'Holy See', 'Honduras', 'Hungary', 'Iceland', 'India', 'Indonesia', 'Iran', 'Iraq', 'Ireland', 'Israel', 'Italy', 'Jamaica', 'Japan', 'Jordan', 'Kazakhstan', 'Kenya', 'Korea, South', 'Kosovo', 'Kuwait', 'Kyrgyzstan', 'Laos', 'Latvia', 'Lebanon', 'Lesotho', 'Liberia', 'Libya', 'Liechtenstein', 'Lithuania', 'Luxembourg', 'MS Zaandam', 'Madagascar', 'Malawi', 'Malaysia', 'Maldives', 'Mali', 'Malta', 'Mauritania', 'Mauritius', 'Mexico', 'Moldova', 'Monaco', 'Mongolia', 'Montenegro', 'Morocco', 'Mozambique', 'Namibia', 'Nepal', 'Netherlands', 'New Zealand', 'Nicaragua', 'Niger', 'Nigeria', 'North Macedonia', 'Norway', 'Oman', 'Pakistan', 'Panama', 'Papua New Guinea', 'Paraguay', 'Peru', 'Philippines', 'Poland', 'Portugal', 'Qatar', 'Romania', 'Russia', 'Rwanda', 'Saint Kitts and Nevis', 'Saint Lucia', 'Saint Vincent and the Grenadines', 'San Marino', 'Sao Tome and Principe', 'Saudi Arabia', 'Senegal', 'Serbia', 'Seychelles', 'Sierra Leone', 'Singapore', 'Slovakia', 'Slovenia', 'Somalia', 'South Africa', 'South Sudan', 'Spain', 'Sri Lanka', 'Sudan', 'Suriname', 'Sweden', 'Switzerland', 'Syria', 'Taiwan*', 'Tajikistan', 'Tanzania', 'Thailand', 'Timor-Leste', 'Togo', 'Trinidad and Tobago', 'Tunisia', 'Turkey', 'US', 'Uganda', 'Ukraine', 'United Arab Emirates', 'United Kingdom', 'Uruguay', 'Uzbekistan', 'Venezuela', 'Vietnam', 'West Bank and Gaza', 'Western Sahara', 'Yemen', 'Zambia', 'Zimbabwe']\n"
          ],
          "name": "stdout"
        },
        {
          "output_type": "execute_result",
          "data": {
            "text/plain": [
              "Text(0, 0.5, 'Number of Cases')"
            ]
          },
          "metadata": {
            "tags": []
          },
          "execution_count": 70
        },
        {
          "output_type": "display_data",
          "data": {
            "image/png": "[encoded data removed]",
            "text/plain": [
              "<Figure size 432x288 with 1 Axes>"
            ]
          },
          "metadata": {
            "tags": [],
            "needs_background": "light"
          }
        }
      ]
    },
    {
      "cell_type": "code",
      "metadata": {
        "id": "OwYufLIRrqhx",
        "colab_type": "code",
        "colab": {
          "base_uri": "https://localhost:8080/",
          "height": 469
        },
        "outputId": "47d57ffd-fde8-4a15-ee0f-7f48852e57e5"
      },
      "source": [
        "for c in countries:\n",
        "  corona_dataset_aggregated.loc[c].plot(figsize=(20,10))\n",
        "  plt.xticks(rotation=25)\n",
        "  plt.xlabel(\"Date\")\n",
        "  plt.ylabel(\"Number of positive Cases\")\n",
        "  "
      ],
      "execution_count": 109,
      "outputs": [
        {
          "output_type": "display_data",
          "data": {
            "image/png": "[encoded data removed]",
            "text/plain": [
              "<Figure size 1440x720 with 1 Axes>"
            ]
          },
          "metadata": {
            "tags": [],
            "needs_background": "light"
          }
        }
      ]
    },
    {
      "cell_type": "code",
      "metadata": {
        "id": "DeSN4PAcrqYL",
        "colab_type": "code",
        "colab": {}
      },
      "source": [
        ""
      ],
      "execution_count": 71,
      "outputs": []
    },
    {
      "cell_type": "code",
      "metadata": {
        "id": "wWxbBXo9rqUx",
        "colab_type": "code",
        "colab": {}
      },
      "source": [
        ""
      ],
      "execution_count": 71,
      "outputs": []
    },
    {
      "cell_type": "code",
      "metadata": {
        "id": "52pUSpc5rqRo",
        "colab_type": "code",
        "colab": {}
      },
      "source": [
        ""
      ],
      "execution_count": 71,
      "outputs": []
    },
    {
      "cell_type": "markdown",
      "metadata": {
        "id": "4j-AUb7Pjvmt",
        "colab_type": "text"
      },
      "source": [
        "### Task3: Calculating a good measure \n",
        "we need to find a good measure reperestend as a number, describing the spread of the virus in a country. "
      ]
    },
    {
      "cell_type": "code",
      "metadata": {
        "id": "tLz7sF6Ljvmu",
        "colab_type": "code",
        "colab": {
          "base_uri": "https://localhost:8080/",
          "height": 283
        },
        "outputId": "74fc4f2d-c6d1-48d0-ac1e-663e2a1dca0c"
      },
      "source": [
        "corona_dataset_aggregated.loc['India'].plot()\n",
        "plt.legend()"
      ],
      "execution_count": 72,
      "outputs": [
        {
          "output_type": "execute_result",
          "data": {
            "text/plain": [
              "<matplotlib.legend.Legend at 0x7f84771ee048>"
            ]
          },
          "metadata": {
            "tags": []
          },
          "execution_count": 72
        },
        {
          "output_type": "display_data",
          "data": {
            "image/png": "[encoded data removed]",
            "text/plain": [
              "<Figure size 432x288 with 1 Axes>"
            ]
          },
          "metadata": {
            "tags": [],
            "needs_background": "light"
          }
        }
      ]
    },
    {
      "cell_type": "code",
      "metadata": {
        "id": "bgnQCppwjvmw",
        "colab_type": "code",
        "colab": {
          "base_uri": "https://localhost:8080/",
          "height": 283
        },
        "outputId": "1ef5764c-86d7-4efe-a037-533a397e1c02"
      },
      "source": [
        "corona_dataset_aggregated.loc[\"India\"][:75].plot()\n",
        "\n",
        "corona_dataset_aggregated.loc[\"China\"][:75].plot()\n",
        "\n",
        "plt.legend()"
      ],
      "execution_count": 73,
      "outputs": [
        {
          "output_type": "execute_result",
          "data": {
            "text/plain": [
              "<matplotlib.legend.Legend at 0x7f847726b0f0>"
            ]
          },
          "metadata": {
            "tags": []
          },
          "execution_count": 73
        },
        {
          "output_type": "display_data",
          "data": {
            "image/png": "[encoded data removed]",
            "text/plain": [
              "<Figure size 432x288 with 1 Axes>"
            ]
          },
          "metadata": {
            "tags": [],
            "needs_background": "light"
          }
        }
      ]
    },
    {
      "cell_type": "code",
      "metadata": {
        "id": "MUzI90kKnS_D",
        "colab_type": "code",
        "colab": {
          "base_uri": "https://localhost:8080/",
          "height": 283
        },
        "outputId": "03b04c47-fc5d-4d92-87b7-d8d63bb6226c"
      },
      "source": [
        "corona_dataset_aggregated.loc[\"India\"][-75:].plot()\n",
        "\n",
        "corona_dataset_aggregated.loc[\"China\"][-75:].plot()\n",
        "\n",
        "plt.legend()"
      ],
      "execution_count": 74,
      "outputs": [
        {
          "output_type": "execute_result",
          "data": {
            "text/plain": [
              "<matplotlib.legend.Legend at 0x7f8477194c18>"
            ]
          },
          "metadata": {
            "tags": []
          },
          "execution_count": 74
        },
        {
          "output_type": "display_data",
          "data": {
            "image/png": "[encoded data removed]",
            "text/plain": [
              "<Figure size 432x288 with 1 Axes>"
            ]
          },
          "metadata": {
            "tags": [],
            "needs_background": "light"
          }
        }
      ]
    },
    {
      "cell_type": "markdown",
      "metadata": {
        "id": "zHDJt-Rcjvmz",
        "colab_type": "text"
      },
      "source": [
        "### task 3.1: caculating the first derivative of the curve"
      ]
    },
    {
      "cell_type": "code",
      "metadata": {
        "id": "lYyrQBtwjvmz",
        "colab_type": "code",
        "colab": {
          "base_uri": "https://localhost:8080/",
          "height": 283
        },
        "outputId": "9cc85bcc-c3a9-4ffd-e04e-83229030fc68"
      },
      "source": [
        "corona_dataset_aggregated.loc[\"China\"].diff().plot()"
      ],
      "execution_count": 75,
      "outputs": [
        {
          "output_type": "execute_result",
          "data": {
            "text/plain": [
              "<matplotlib.axes._subplots.AxesSubplot at 0x7f847710ef98>"
            ]
          },
          "metadata": {
            "tags": []
          },
          "execution_count": 75
        },
        {
          "output_type": "display_data",
          "data": {
            "image/png": "[encoded data removed]",
            "text/plain": [
              "<Figure size 432x288 with 1 Axes>"
            ]
          },
          "metadata": {
            "tags": [],
            "needs_background": "light"
          }
        }
      ]
    },
    {
      "cell_type": "markdown",
      "metadata": {
        "id": "5dY0CSj5jvm2",
        "colab_type": "text"
      },
      "source": [
        "### task 3.2: find maxmimum infection rate for China"
      ]
    },
    {
      "cell_type": "code",
      "metadata": {
        "id": "xiMac2cyjvm2",
        "colab_type": "code",
        "colab": {
          "base_uri": "https://localhost:8080/",
          "height": 35
        },
        "outputId": "23fd22bf-d6e3-4b89-a950-05b3fc4704f5"
      },
      "source": [
        "corona_dataset_aggregated.loc[\"China\"].diff().max()"
      ],
      "execution_count": 76,
      "outputs": [
        {
          "output_type": "execute_result",
          "data": {
            "text/plain": [
              "15136.0"
            ]
          },
          "metadata": {
            "tags": []
          },
          "execution_count": 76
        }
      ]
    },
    {
      "cell_type": "code",
      "metadata": {
        "id": "5xpXWFB0jvm5",
        "colab_type": "code",
        "colab": {
          "base_uri": "https://localhost:8080/",
          "height": 283
        },
        "outputId": "628006f5-2f4a-47d4-e6a7-c9039f249086"
      },
      "source": [
        "corona_dataset_aggregated.loc[\"Italy\"].diff().plot()"
      ],
      "execution_count": 77,
      "outputs": [
        {
          "output_type": "execute_result",
          "data": {
            "text/plain": [
              "<matplotlib.axes._subplots.AxesSubplot at 0x7f8477095c50>"
            ]
          },
          "metadata": {
            "tags": []
          },
          "execution_count": 77
        },
        {
          "output_type": "display_data",
          "data": {
            "image/png": "[encoded data removed]",
            "text/plain": [
              "<Figure size 432x288 with 1 Axes>"
            ]
          },
          "metadata": {
            "tags": [],
            "needs_background": "light"
          }
        }
      ]
    },
    {
      "cell_type": "code",
      "metadata": {
        "id": "nykv1Gltjvm8",
        "colab_type": "code",
        "colab": {
          "base_uri": "https://localhost:8080/",
          "height": 35
        },
        "outputId": "16886f11-26cd-4a1d-fbf9-6e927a1d9d19"
      },
      "source": [
        "corona_dataset_aggregated.loc[\"Italy\"].diff().max()"
      ],
      "execution_count": 78,
      "outputs": [
        {
          "output_type": "execute_result",
          "data": {
            "text/plain": [
              "6557.0"
            ]
          },
          "metadata": {
            "tags": []
          },
          "execution_count": 78
        }
      ]
    },
    {
      "cell_type": "code",
      "metadata": {
        "id": "WgoxP6AYjvnB",
        "colab_type": "code",
        "colab": {
          "base_uri": "https://localhost:8080/",
          "height": 35
        },
        "outputId": "f8047e2f-6dc6-4b19-bc62-1818652be9b9"
      },
      "source": [
        "corona_dataset_aggregated.loc[\"Spain\"].diff().max()"
      ],
      "execution_count": 79,
      "outputs": [
        {
          "output_type": "execute_result",
          "data": {
            "text/plain": [
              "9630.0"
            ]
          },
          "metadata": {
            "tags": []
          },
          "execution_count": 79
        }
      ]
    },
    {
      "cell_type": "markdown",
      "metadata": {
        "id": "XZ7Y9GKijvnF",
        "colab_type": "text"
      },
      "source": [
        "### Task 3.3: find maximum infection rate for all of the countries. "
      ]
    },
    {
      "cell_type": "code",
      "metadata": {
        "id": "5a4XttnIjvnF",
        "colab_type": "code",
        "colab": {
          "base_uri": "https://localhost:8080/",
          "height": 35
        },
        "outputId": "04edf693-425f-44a6-bf90-bde7517a2084"
      },
      "source": [
        "countires = list(corona_dataset_aggregated.index)\n",
        "max_infection_rates = []\n",
        "\n",
        "for c in countires:\n",
        "    max_infection_rates.append(corona_dataset_aggregated.loc[c].diff().max())\n",
        "len(max_infection_rates)"
      ],
      "execution_count": 80,
      "outputs": [
        {
          "output_type": "execute_result",
          "data": {
            "text/plain": [
              "188"
            ]
          },
          "metadata": {
            "tags": []
          },
          "execution_count": 80
        }
      ]
    },
    {
      "cell_type": "code",
      "metadata": {
        "id": "mgKUA332jvnH",
        "colab_type": "code",
        "colab": {}
      },
      "source": [
        "corona_dataset_aggregated['max_infection_rates']=max_infection_rates"
      ],
      "execution_count": 81,
      "outputs": []
    },
    {
      "cell_type": "code",
      "metadata": {
        "id": "R-EUpfjqjvnJ",
        "colab_type": "code",
        "colab": {
          "base_uri": "https://localhost:8080/",
          "height": 282
        },
        "outputId": "e1ecb9f5-c038-4e88-a04c-375e301e0b49"
      },
      "source": [
        "corona_dataset_aggregated.head()"
      ],
      "execution_count": 82,
      "outputs": [
        {
          "output_type": "execute_result",
          "data": {
            "text/html": [
              "<div>\n",
              "<style scoped>\n",
              "    .dataframe tbody tr th:only-of-type {\n",
              "        vertical-align: middle;\n",
              "    }\n",
              "\n",
              "    .dataframe tbody tr th {\n",
              "        vertical-align: top;\n",
              "    }\n",
              "\n",
              "    .dataframe thead th {\n",
              "        text-align: right;\n",
              "    }\n",
              "</style>\n",
              "<table border=\"1\" class=\"dataframe\">\n",
              "  <thead>\n",
              "    <tr style=\"text-align: right;\">\n",
              "      <th></th>\n",
              "      <th>1/22/20</th>\n",
              "      <th>1/23/20</th>\n",
              "      <th>1/24/20</th>\n",
              "      <th>1/25/20</th>\n",
              "      <th>1/26/20</th>\n",
              "      <th>1/27/20</th>\n",
              "      <th>1/28/20</th>\n",
              "      <th>1/29/20</th>\n",
              "      <th>1/30/20</th>\n",
              "      <th>1/31/20</th>\n",
              "      <th>2/1/20</th>\n",
              "      <th>2/2/20</th>\n",
              "      <th>2/3/20</th>\n",
              "      <th>2/4/20</th>\n",
              "      <th>2/5/20</th>\n",
              "      <th>2/6/20</th>\n",
              "      <th>2/7/20</th>\n",
              "      <th>2/8/20</th>\n",
              "      <th>2/9/20</th>\n",
              "      <th>2/10/20</th>\n",
              "      <th>2/11/20</th>\n",
              "      <th>2/12/20</th>\n",
              "      <th>2/13/20</th>\n",
              "      <th>2/14/20</th>\n",
              "      <th>2/15/20</th>\n",
              "      <th>2/16/20</th>\n",
              "      <th>2/17/20</th>\n",
              "      <th>2/18/20</th>\n",
              "      <th>2/19/20</th>\n",
              "      <th>2/20/20</th>\n",
              "      <th>2/21/20</th>\n",
              "      <th>2/22/20</th>\n",
              "      <th>2/23/20</th>\n",
              "      <th>2/24/20</th>\n",
              "      <th>2/25/20</th>\n",
              "      <th>2/26/20</th>\n",
              "      <th>2/27/20</th>\n",
              "      <th>2/28/20</th>\n",
              "      <th>2/29/20</th>\n",
              "      <th>3/1/20</th>\n",
              "      <th>...</th>\n",
              "      <th>5/23/20</th>\n",
              "      <th>5/24/20</th>\n",
              "      <th>5/25/20</th>\n",
              "      <th>5/26/20</th>\n",
              "      <th>5/27/20</th>\n",
              "      <th>5/28/20</th>\n",
              "      <th>5/29/20</th>\n",
              "      <th>5/30/20</th>\n",
              "      <th>5/31/20</th>\n",
              "      <th>6/1/20</th>\n",
              "      <th>6/2/20</th>\n",
              "      <th>6/3/20</th>\n",
              "      <th>6/4/20</th>\n",
              "      <th>6/5/20</th>\n",
              "      <th>6/6/20</th>\n",
              "      <th>6/7/20</th>\n",
              "      <th>6/8/20</th>\n",
              "      <th>6/9/20</th>\n",
              "      <th>6/10/20</th>\n",
              "      <th>6/11/20</th>\n",
              "      <th>6/12/20</th>\n",
              "      <th>6/13/20</th>\n",
              "      <th>6/14/20</th>\n",
              "      <th>6/15/20</th>\n",
              "      <th>6/16/20</th>\n",
              "      <th>6/17/20</th>\n",
              "      <th>6/18/20</th>\n",
              "      <th>6/19/20</th>\n",
              "      <th>6/20/20</th>\n",
              "      <th>6/21/20</th>\n",
              "      <th>6/22/20</th>\n",
              "      <th>6/23/20</th>\n",
              "      <th>6/24/20</th>\n",
              "      <th>6/25/20</th>\n",
              "      <th>6/26/20</th>\n",
              "      <th>6/27/20</th>\n",
              "      <th>6/28/20</th>\n",
              "      <th>6/29/20</th>\n",
              "      <th>6/30/20</th>\n",
              "      <th>max_infection_rates</th>\n",
              "    </tr>\n",
              "    <tr>\n",
              "      <th>Country/Region</th>\n",
              "      <th></th>\n",
              "      <th></th>\n",
              "      <th></th>\n",
              "      <th></th>\n",
              "      <th></th>\n",
              "      <th></th>\n",
              "      <th></th>\n",
              "      <th></th>\n",
              "      <th></th>\n",
              "      <th></th>\n",
              "      <th></th>\n",
              "      <th></th>\n",
              "      <th></th>\n",
              "      <th></th>\n",
              "      <th></th>\n",
              "      <th></th>\n",
              "      <th></th>\n",
              "      <th></th>\n",
              "      <th></th>\n",
              "      <th></th>\n",
              "      <th></th>\n",
              "      <th></th>\n",
              "      <th></th>\n",
              "      <th></th>\n",
              "      <th></th>\n",
              "      <th></th>\n",
              "      <th></th>\n",
              "      <th></th>\n",
              "      <th></th>\n",
              "      <th></th>\n",
              "      <th></th>\n",
              "      <th></th>\n",
              "      <th></th>\n",
              "      <th></th>\n",
              "      <th></th>\n",
              "      <th></th>\n",
              "      <th></th>\n",
              "      <th></th>\n",
              "      <th></th>\n",
              "      <th></th>\n",
              "      <th></th>\n",
              "      <th></th>\n",
              "      <th></th>\n",
              "      <th></th>\n",
              "      <th></th>\n",
              "      <th></th>\n",
              "      <th></th>\n",
              "      <th></th>\n",
              "      <th></th>\n",
              "      <th></th>\n",
              "      <th></th>\n",
              "      <th></th>\n",
              "      <th></th>\n",
              "      <th></th>\n",
              "      <th></th>\n",
              "      <th></th>\n",
              "      <th></th>\n",
              "      <th></th>\n",
              "      <th></th>\n",
              "      <th></th>\n",
              "      <th></th>\n",
              "      <th></th>\n",
              "      <th></th>\n",
              "      <th></th>\n",
              "      <th></th>\n",
              "      <th></th>\n",
              "      <th></th>\n",
              "      <th></th>\n",
              "      <th></th>\n",
              "      <th></th>\n",
              "      <th></th>\n",
              "      <th></th>\n",
              "      <th></th>\n",
              "      <th></th>\n",
              "      <th></th>\n",
              "      <th></th>\n",
              "      <th></th>\n",
              "      <th></th>\n",
              "      <th></th>\n",
              "      <th></th>\n",
              "      <th></th>\n",
              "    </tr>\n",
              "  </thead>\n",
              "  <tbody>\n",
              "    <tr>\n",
              "      <th>Afghanistan</th>\n",
              "      <td>0</td>\n",
              "      <td>0</td>\n",
              "      <td>0</td>\n",
              "      <td>0</td>\n",
              "      <td>0</td>\n",
              "      <td>0</td>\n",
              "      <td>0</td>\n",
              "      <td>0</td>\n",
              "      <td>0</td>\n",
              "      <td>0</td>\n",
              "      <td>0</td>\n",
              "      <td>0</td>\n",
              "      <td>0</td>\n",
              "      <td>0</td>\n",
              "      <td>0</td>\n",
              "      <td>0</td>\n",
              "      <td>0</td>\n",
              "      <td>0</td>\n",
              "      <td>0</td>\n",
              "      <td>0</td>\n",
              "      <td>0</td>\n",
              "      <td>0</td>\n",
              "      <td>0</td>\n",
              "      <td>0</td>\n",
              "      <td>0</td>\n",
              "      <td>0</td>\n",
              "      <td>0</td>\n",
              "      <td>0</td>\n",
              "      <td>0</td>\n",
              "      <td>0</td>\n",
              "      <td>0</td>\n",
              "      <td>0</td>\n",
              "      <td>0</td>\n",
              "      <td>1</td>\n",
              "      <td>1</td>\n",
              "      <td>1</td>\n",
              "      <td>1</td>\n",
              "      <td>1</td>\n",
              "      <td>1</td>\n",
              "      <td>1</td>\n",
              "      <td>...</td>\n",
              "      <td>9998</td>\n",
              "      <td>10582</td>\n",
              "      <td>11173</td>\n",
              "      <td>11831</td>\n",
              "      <td>12456</td>\n",
              "      <td>13036</td>\n",
              "      <td>13659</td>\n",
              "      <td>14525</td>\n",
              "      <td>15205</td>\n",
              "      <td>15750</td>\n",
              "      <td>16509</td>\n",
              "      <td>17267</td>\n",
              "      <td>18054</td>\n",
              "      <td>18969</td>\n",
              "      <td>19551</td>\n",
              "      <td>20342</td>\n",
              "      <td>20917</td>\n",
              "      <td>21459</td>\n",
              "      <td>22142</td>\n",
              "      <td>22890</td>\n",
              "      <td>23546</td>\n",
              "      <td>24102</td>\n",
              "      <td>24766</td>\n",
              "      <td>25527</td>\n",
              "      <td>26310</td>\n",
              "      <td>26874</td>\n",
              "      <td>27532</td>\n",
              "      <td>27878</td>\n",
              "      <td>28424</td>\n",
              "      <td>28833</td>\n",
              "      <td>29157</td>\n",
              "      <td>29481</td>\n",
              "      <td>29640</td>\n",
              "      <td>30175</td>\n",
              "      <td>30451</td>\n",
              "      <td>30616</td>\n",
              "      <td>30967</td>\n",
              "      <td>31238</td>\n",
              "      <td>31517</td>\n",
              "      <td>915.0</td>\n",
              "    </tr>\n",
              "    <tr>\n",
              "      <th>Albania</th>\n",
              "      <td>0</td>\n",
              "      <td>0</td>\n",
              "      <td>0</td>\n",
              "      <td>0</td>\n",
              "      <td>0</td>\n",
              "      <td>0</td>\n",
              "      <td>0</td>\n",
              "      <td>0</td>\n",
              "      <td>0</td>\n",
              "      <td>0</td>\n",
              "      <td>0</td>\n",
              "      <td>0</td>\n",
              "      <td>0</td>\n",
              "      <td>0</td>\n",
              "      <td>0</td>\n",
              "      <td>0</td>\n",
              "      <td>0</td>\n",
              "      <td>0</td>\n",
              "      <td>0</td>\n",
              "      <td>0</td>\n",
              "      <td>0</td>\n",
              "      <td>0</td>\n",
              "      <td>0</td>\n",
              "      <td>0</td>\n",
              "      <td>0</td>\n",
              "      <td>0</td>\n",
              "      <td>0</td>\n",
              "      <td>0</td>\n",
              "      <td>0</td>\n",
              "      <td>0</td>\n",
              "      <td>0</td>\n",
              "      <td>0</td>\n",
              "      <td>0</td>\n",
              "      <td>0</td>\n",
              "      <td>0</td>\n",
              "      <td>0</td>\n",
              "      <td>0</td>\n",
              "      <td>0</td>\n",
              "      <td>0</td>\n",
              "      <td>0</td>\n",
              "      <td>...</td>\n",
              "      <td>989</td>\n",
              "      <td>998</td>\n",
              "      <td>1004</td>\n",
              "      <td>1029</td>\n",
              "      <td>1050</td>\n",
              "      <td>1076</td>\n",
              "      <td>1099</td>\n",
              "      <td>1122</td>\n",
              "      <td>1137</td>\n",
              "      <td>1143</td>\n",
              "      <td>1164</td>\n",
              "      <td>1184</td>\n",
              "      <td>1197</td>\n",
              "      <td>1212</td>\n",
              "      <td>1232</td>\n",
              "      <td>1246</td>\n",
              "      <td>1263</td>\n",
              "      <td>1299</td>\n",
              "      <td>1341</td>\n",
              "      <td>1385</td>\n",
              "      <td>1416</td>\n",
              "      <td>1464</td>\n",
              "      <td>1521</td>\n",
              "      <td>1590</td>\n",
              "      <td>1672</td>\n",
              "      <td>1722</td>\n",
              "      <td>1788</td>\n",
              "      <td>1838</td>\n",
              "      <td>1891</td>\n",
              "      <td>1962</td>\n",
              "      <td>1995</td>\n",
              "      <td>2047</td>\n",
              "      <td>2114</td>\n",
              "      <td>2192</td>\n",
              "      <td>2269</td>\n",
              "      <td>2330</td>\n",
              "      <td>2402</td>\n",
              "      <td>2466</td>\n",
              "      <td>2535</td>\n",
              "      <td>82.0</td>\n",
              "    </tr>\n",
              "    <tr>\n",
              "      <th>Algeria</th>\n",
              "      <td>0</td>\n",
              "      <td>0</td>\n",
              "      <td>0</td>\n",
              "      <td>0</td>\n",
              "      <td>0</td>\n",
              "      <td>0</td>\n",
              "      <td>0</td>\n",
              "      <td>0</td>\n",
              "      <td>0</td>\n",
              "      <td>0</td>\n",
              "      <td>0</td>\n",
              "      <td>0</td>\n",
              "      <td>0</td>\n",
              "      <td>0</td>\n",
              "      <td>0</td>\n",
              "      <td>0</td>\n",
              "      <td>0</td>\n",
              "      <td>0</td>\n",
              "      <td>0</td>\n",
              "      <td>0</td>\n",
              "      <td>0</td>\n",
              "      <td>0</td>\n",
              "      <td>0</td>\n",
              "      <td>0</td>\n",
              "      <td>0</td>\n",
              "      <td>0</td>\n",
              "      <td>0</td>\n",
              "      <td>0</td>\n",
              "      <td>0</td>\n",
              "      <td>0</td>\n",
              "      <td>0</td>\n",
              "      <td>0</td>\n",
              "      <td>0</td>\n",
              "      <td>0</td>\n",
              "      <td>1</td>\n",
              "      <td>1</td>\n",
              "      <td>1</td>\n",
              "      <td>1</td>\n",
              "      <td>1</td>\n",
              "      <td>1</td>\n",
              "      <td>...</td>\n",
              "      <td>8113</td>\n",
              "      <td>8306</td>\n",
              "      <td>8503</td>\n",
              "      <td>8697</td>\n",
              "      <td>8857</td>\n",
              "      <td>8997</td>\n",
              "      <td>9134</td>\n",
              "      <td>9267</td>\n",
              "      <td>9394</td>\n",
              "      <td>9513</td>\n",
              "      <td>9626</td>\n",
              "      <td>9733</td>\n",
              "      <td>9831</td>\n",
              "      <td>9935</td>\n",
              "      <td>10050</td>\n",
              "      <td>10154</td>\n",
              "      <td>10265</td>\n",
              "      <td>10382</td>\n",
              "      <td>10484</td>\n",
              "      <td>10589</td>\n",
              "      <td>10698</td>\n",
              "      <td>10810</td>\n",
              "      <td>10919</td>\n",
              "      <td>11031</td>\n",
              "      <td>11147</td>\n",
              "      <td>11268</td>\n",
              "      <td>11385</td>\n",
              "      <td>11504</td>\n",
              "      <td>11631</td>\n",
              "      <td>11771</td>\n",
              "      <td>11920</td>\n",
              "      <td>12076</td>\n",
              "      <td>12248</td>\n",
              "      <td>12445</td>\n",
              "      <td>12685</td>\n",
              "      <td>12968</td>\n",
              "      <td>13273</td>\n",
              "      <td>13571</td>\n",
              "      <td>13907</td>\n",
              "      <td>336.0</td>\n",
              "    </tr>\n",
              "    <tr>\n",
              "      <th>Andorra</th>\n",
              "      <td>0</td>\n",
              "      <td>0</td>\n",
              "      <td>0</td>\n",
              "      <td>0</td>\n",
              "      <td>0</td>\n",
              "      <td>0</td>\n",
              "      <td>0</td>\n",
              "      <td>0</td>\n",
              "      <td>0</td>\n",
              "      <td>0</td>\n",
              "      <td>0</td>\n",
              "      <td>0</td>\n",
              "      <td>0</td>\n",
              "      <td>0</td>\n",
              "      <td>0</td>\n",
              "      <td>0</td>\n",
              "      <td>0</td>\n",
              "      <td>0</td>\n",
              "      <td>0</td>\n",
              "      <td>0</td>\n",
              "      <td>0</td>\n",
              "      <td>0</td>\n",
              "      <td>0</td>\n",
              "      <td>0</td>\n",
              "      <td>0</td>\n",
              "      <td>0</td>\n",
              "      <td>0</td>\n",
              "      <td>0</td>\n",
              "      <td>0</td>\n",
              "      <td>0</td>\n",
              "      <td>0</td>\n",
              "      <td>0</td>\n",
              "      <td>0</td>\n",
              "      <td>0</td>\n",
              "      <td>0</td>\n",
              "      <td>0</td>\n",
              "      <td>0</td>\n",
              "      <td>0</td>\n",
              "      <td>0</td>\n",
              "      <td>0</td>\n",
              "      <td>...</td>\n",
              "      <td>762</td>\n",
              "      <td>762</td>\n",
              "      <td>763</td>\n",
              "      <td>763</td>\n",
              "      <td>763</td>\n",
              "      <td>763</td>\n",
              "      <td>764</td>\n",
              "      <td>764</td>\n",
              "      <td>764</td>\n",
              "      <td>765</td>\n",
              "      <td>844</td>\n",
              "      <td>851</td>\n",
              "      <td>852</td>\n",
              "      <td>852</td>\n",
              "      <td>852</td>\n",
              "      <td>852</td>\n",
              "      <td>852</td>\n",
              "      <td>852</td>\n",
              "      <td>852</td>\n",
              "      <td>852</td>\n",
              "      <td>853</td>\n",
              "      <td>853</td>\n",
              "      <td>853</td>\n",
              "      <td>853</td>\n",
              "      <td>854</td>\n",
              "      <td>854</td>\n",
              "      <td>855</td>\n",
              "      <td>855</td>\n",
              "      <td>855</td>\n",
              "      <td>855</td>\n",
              "      <td>855</td>\n",
              "      <td>855</td>\n",
              "      <td>855</td>\n",
              "      <td>855</td>\n",
              "      <td>855</td>\n",
              "      <td>855</td>\n",
              "      <td>855</td>\n",
              "      <td>855</td>\n",
              "      <td>855</td>\n",
              "      <td>79.0</td>\n",
              "    </tr>\n",
              "    <tr>\n",
              "      <th>Angola</th>\n",
              "      <td>0</td>\n",
              "      <td>0</td>\n",
              "      <td>0</td>\n",
              "      <td>0</td>\n",
              "      <td>0</td>\n",
              "      <td>0</td>\n",
              "      <td>0</td>\n",
              "      <td>0</td>\n",
              "      <td>0</td>\n",
              "      <td>0</td>\n",
              "      <td>0</td>\n",
              "      <td>0</td>\n",
              "      <td>0</td>\n",
              "      <td>0</td>\n",
              "      <td>0</td>\n",
              "      <td>0</td>\n",
              "      <td>0</td>\n",
              "      <td>0</td>\n",
              "      <td>0</td>\n",
              "      <td>0</td>\n",
              "      <td>0</td>\n",
              "      <td>0</td>\n",
              "      <td>0</td>\n",
              "      <td>0</td>\n",
              "      <td>0</td>\n",
              "      <td>0</td>\n",
              "      <td>0</td>\n",
              "      <td>0</td>\n",
              "      <td>0</td>\n",
              "      <td>0</td>\n",
              "      <td>0</td>\n",
              "      <td>0</td>\n",
              "      <td>0</td>\n",
              "      <td>0</td>\n",
              "      <td>0</td>\n",
              "      <td>0</td>\n",
              "      <td>0</td>\n",
              "      <td>0</td>\n",
              "      <td>0</td>\n",
              "      <td>0</td>\n",
              "      <td>...</td>\n",
              "      <td>61</td>\n",
              "      <td>69</td>\n",
              "      <td>70</td>\n",
              "      <td>70</td>\n",
              "      <td>71</td>\n",
              "      <td>74</td>\n",
              "      <td>81</td>\n",
              "      <td>84</td>\n",
              "      <td>86</td>\n",
              "      <td>86</td>\n",
              "      <td>86</td>\n",
              "      <td>86</td>\n",
              "      <td>86</td>\n",
              "      <td>86</td>\n",
              "      <td>88</td>\n",
              "      <td>91</td>\n",
              "      <td>92</td>\n",
              "      <td>96</td>\n",
              "      <td>113</td>\n",
              "      <td>118</td>\n",
              "      <td>130</td>\n",
              "      <td>138</td>\n",
              "      <td>140</td>\n",
              "      <td>142</td>\n",
              "      <td>148</td>\n",
              "      <td>155</td>\n",
              "      <td>166</td>\n",
              "      <td>172</td>\n",
              "      <td>176</td>\n",
              "      <td>183</td>\n",
              "      <td>186</td>\n",
              "      <td>189</td>\n",
              "      <td>197</td>\n",
              "      <td>212</td>\n",
              "      <td>212</td>\n",
              "      <td>259</td>\n",
              "      <td>267</td>\n",
              "      <td>276</td>\n",
              "      <td>284</td>\n",
              "      <td>47.0</td>\n",
              "    </tr>\n",
              "  </tbody>\n",
              "</table>\n",
              "<p>5 rows × 162 columns</p>\n",
              "</div>"
            ],
            "text/plain": [
              "                1/22/20  1/23/20  ...  6/30/20  max_infection_rates\n",
              "Country/Region                    ...                              \n",
              "Afghanistan           0        0  ...    31517                915.0\n",
              "Albania               0        0  ...     2535                 82.0\n",
              "Algeria               0        0  ...    13907                336.0\n",
              "Andorra               0        0  ...      855                 79.0\n",
              "Angola                0        0  ...      284                 47.0\n",
              "\n",
              "[5 rows x 162 columns]"
            ]
          },
          "metadata": {
            "tags": []
          },
          "execution_count": 82
        }
      ]
    },
    {
      "cell_type": "code",
      "metadata": {
        "id": "VvxTroTYjvnM",
        "colab_type": "code",
        "colab": {}
      },
      "source": [
        ""
      ],
      "execution_count": 82,
      "outputs": []
    },
    {
      "cell_type": "markdown",
      "metadata": {
        "id": "FiANPtNWjvnO",
        "colab_type": "text"
      },
      "source": [
        "### Task 3.4: create a new dataframe with only needed column "
      ]
    },
    {
      "cell_type": "code",
      "metadata": {
        "id": "FMAGNsjrjvnP",
        "colab_type": "code",
        "colab": {}
      },
      "source": [
        "corona_data=pd.DataFrame(corona_dataset_aggregated[\"max_infection_rates\"])"
      ],
      "execution_count": 83,
      "outputs": []
    },
    {
      "cell_type": "code",
      "metadata": {
        "id": "8WtLSH22jvnU",
        "colab_type": "code",
        "colab": {
          "base_uri": "https://localhost:8080/",
          "height": 233
        },
        "outputId": "73c5f878-2edf-4077-8502-65167987ce3b"
      },
      "source": [
        "corona_data.head()"
      ],
      "execution_count": 84,
      "outputs": [
        {
          "output_type": "execute_result",
          "data": {
            "text/html": [
              "<div>\n",
              "<style scoped>\n",
              "    .dataframe tbody tr th:only-of-type {\n",
              "        vertical-align: middle;\n",
              "    }\n",
              "\n",
              "    .dataframe tbody tr th {\n",
              "        vertical-align: top;\n",
              "    }\n",
              "\n",
              "    .dataframe thead th {\n",
              "        text-align: right;\n",
              "    }\n",
              "</style>\n",
              "<table border=\"1\" class=\"dataframe\">\n",
              "  <thead>\n",
              "    <tr style=\"text-align: right;\">\n",
              "      <th></th>\n",
              "      <th>max_infection_rates</th>\n",
              "    </tr>\n",
              "    <tr>\n",
              "      <th>Country/Region</th>\n",
              "      <th></th>\n",
              "    </tr>\n",
              "  </thead>\n",
              "  <tbody>\n",
              "    <tr>\n",
              "      <th>Afghanistan</th>\n",
              "      <td>915.0</td>\n",
              "    </tr>\n",
              "    <tr>\n",
              "      <th>Albania</th>\n",
              "      <td>82.0</td>\n",
              "    </tr>\n",
              "    <tr>\n",
              "      <th>Algeria</th>\n",
              "      <td>336.0</td>\n",
              "    </tr>\n",
              "    <tr>\n",
              "      <th>Andorra</th>\n",
              "      <td>79.0</td>\n",
              "    </tr>\n",
              "    <tr>\n",
              "      <th>Angola</th>\n",
              "      <td>47.0</td>\n",
              "    </tr>\n",
              "  </tbody>\n",
              "</table>\n",
              "</div>"
            ],
            "text/plain": [
              "                max_infection_rates\n",
              "Country/Region                     \n",
              "Afghanistan                   915.0\n",
              "Albania                        82.0\n",
              "Algeria                       336.0\n",
              "Andorra                        79.0\n",
              "Angola                         47.0"
            ]
          },
          "metadata": {
            "tags": []
          },
          "execution_count": 84
        }
      ]
    },
    {
      "cell_type": "markdown",
      "metadata": {
        "id": "IE-mx5kGjvnW",
        "colab_type": "text"
      },
      "source": [
        "### Task4: \n",
        "- Importing the WorldHappinessReport.csv dataset\n",
        "- selecting needed columns for our analysis \n",
        "- join the datasets \n",
        "- calculate the correlations as the result of our analysis"
      ]
    },
    {
      "cell_type": "markdown",
      "metadata": {
        "id": "EHBu7hJdjvnX",
        "colab_type": "text"
      },
      "source": [
        "### Task 4.1 : importing the dataset"
      ]
    },
    {
      "cell_type": "code",
      "metadata": {
        "id": "O-k2jixLjvnX",
        "colab_type": "code",
        "colab": {}
      },
      "source": [
        "happiness_report_csv=pd.read_csv(\"/content/sample_data/worldwide_happiness_report.csv\")"
      ],
      "execution_count": 85,
      "outputs": []
    },
    {
      "cell_type": "code",
      "metadata": {
        "id": "295eZWmzjvna",
        "colab_type": "code",
        "colab": {
          "base_uri": "https://localhost:8080/",
          "height": 237
        },
        "outputId": "8000a2f6-ebe0-4d21-c915-bd3342c50112"
      },
      "source": [
        "happiness_report_csv.head()"
      ],
      "execution_count": 86,
      "outputs": [
        {
          "output_type": "execute_result",
          "data": {
            "text/html": [
              "<div>\n",
              "<style scoped>\n",
              "    .dataframe tbody tr th:only-of-type {\n",
              "        vertical-align: middle;\n",
              "    }\n",
              "\n",
              "    .dataframe tbody tr th {\n",
              "        vertical-align: top;\n",
              "    }\n",
              "\n",
              "    .dataframe thead th {\n",
              "        text-align: right;\n",
              "    }\n",
              "</style>\n",
              "<table border=\"1\" class=\"dataframe\">\n",
              "  <thead>\n",
              "    <tr style=\"text-align: right;\">\n",
              "      <th></th>\n",
              "      <th>Overall rank</th>\n",
              "      <th>Country or region</th>\n",
              "      <th>Score</th>\n",
              "      <th>GDP per capita</th>\n",
              "      <th>Social support</th>\n",
              "      <th>Healthy life expectancy</th>\n",
              "      <th>Freedom to make life choices</th>\n",
              "      <th>Generosity</th>\n",
              "      <th>Perceptions of corruption</th>\n",
              "    </tr>\n",
              "  </thead>\n",
              "  <tbody>\n",
              "    <tr>\n",
              "      <th>0</th>\n",
              "      <td>1</td>\n",
              "      <td>Finland</td>\n",
              "      <td>7.769</td>\n",
              "      <td>1.340</td>\n",
              "      <td>1.587</td>\n",
              "      <td>0.986</td>\n",
              "      <td>0.596</td>\n",
              "      <td>0.153</td>\n",
              "      <td>0.393</td>\n",
              "    </tr>\n",
              "    <tr>\n",
              "      <th>1</th>\n",
              "      <td>2</td>\n",
              "      <td>Denmark</td>\n",
              "      <td>7.600</td>\n",
              "      <td>1.383</td>\n",
              "      <td>1.573</td>\n",
              "      <td>0.996</td>\n",
              "      <td>0.592</td>\n",
              "      <td>0.252</td>\n",
              "      <td>0.410</td>\n",
              "    </tr>\n",
              "    <tr>\n",
              "      <th>2</th>\n",
              "      <td>3</td>\n",
              "      <td>Norway</td>\n",
              "      <td>7.554</td>\n",
              "      <td>1.488</td>\n",
              "      <td>1.582</td>\n",
              "      <td>1.028</td>\n",
              "      <td>0.603</td>\n",
              "      <td>0.271</td>\n",
              "      <td>0.341</td>\n",
              "    </tr>\n",
              "    <tr>\n",
              "      <th>3</th>\n",
              "      <td>4</td>\n",
              "      <td>Iceland</td>\n",
              "      <td>7.494</td>\n",
              "      <td>1.380</td>\n",
              "      <td>1.624</td>\n",
              "      <td>1.026</td>\n",
              "      <td>0.591</td>\n",
              "      <td>0.354</td>\n",
              "      <td>0.118</td>\n",
              "    </tr>\n",
              "    <tr>\n",
              "      <th>4</th>\n",
              "      <td>5</td>\n",
              "      <td>Netherlands</td>\n",
              "      <td>7.488</td>\n",
              "      <td>1.396</td>\n",
              "      <td>1.522</td>\n",
              "      <td>0.999</td>\n",
              "      <td>0.557</td>\n",
              "      <td>0.322</td>\n",
              "      <td>0.298</td>\n",
              "    </tr>\n",
              "  </tbody>\n",
              "</table>\n",
              "</div>"
            ],
            "text/plain": [
              "   Overall rank Country or region  ...  Generosity  Perceptions of corruption\n",
              "0             1           Finland  ...       0.153                      0.393\n",
              "1             2           Denmark  ...       0.252                      0.410\n",
              "2             3            Norway  ...       0.271                      0.341\n",
              "3             4           Iceland  ...       0.354                      0.118\n",
              "4             5       Netherlands  ...       0.322                      0.298\n",
              "\n",
              "[5 rows x 9 columns]"
            ]
          },
          "metadata": {
            "tags": []
          },
          "execution_count": 86
        }
      ]
    },
    {
      "cell_type": "code",
      "metadata": {
        "id": "NLXe9B29jvnd",
        "colab_type": "code",
        "colab": {
          "base_uri": "https://localhost:8080/",
          "height": 35
        },
        "outputId": "3c31feac-d8fc-4c43-a39f-e79008f1c776"
      },
      "source": [
        "happiness_report_csv.shape"
      ],
      "execution_count": 87,
      "outputs": [
        {
          "output_type": "execute_result",
          "data": {
            "text/plain": [
              "(156, 9)"
            ]
          },
          "metadata": {
            "tags": []
          },
          "execution_count": 87
        }
      ]
    },
    {
      "cell_type": "markdown",
      "metadata": {
        "id": "inqAI5Yejvng",
        "colab_type": "text"
      },
      "source": [
        "### Task 4.2: let's drop the useless columns "
      ]
    },
    {
      "cell_type": "code",
      "metadata": {
        "id": "GCk70Gz_jvng",
        "colab_type": "code",
        "colab": {
          "base_uri": "https://localhost:8080/",
          "height": 104
        },
        "outputId": "2153b7f2-c773-45be-bd6d-c2fd7ff02ebf"
      },
      "source": [
        "happiness_report_csv.columns"
      ],
      "execution_count": 88,
      "outputs": [
        {
          "output_type": "execute_result",
          "data": {
            "text/plain": [
              "Index(['Overall rank', 'Country or region', 'Score', 'GDP per capita',\n",
              "       'Social support', 'Healthy life expectancy',\n",
              "       'Freedom to make life choices', 'Generosity',\n",
              "       'Perceptions of corruption'],\n",
              "      dtype='object')"
            ]
          },
          "metadata": {
            "tags": []
          },
          "execution_count": 88
        }
      ]
    },
    {
      "cell_type": "code",
      "metadata": {
        "id": "GmSWzYCujvnj",
        "colab_type": "code",
        "colab": {}
      },
      "source": [
        "useless_cols=['Overall rank','Score','Generosity','Perceptions of corruption']"
      ],
      "execution_count": 89,
      "outputs": []
    },
    {
      "cell_type": "code",
      "metadata": {
        "id": "Qy_uyassjvnm",
        "colab_type": "code",
        "colab": {
          "base_uri": "https://localhost:8080/",
          "height": 202
        },
        "outputId": "8c6c5e46-d646-49e9-8a39-e23f4c4e6b18"
      },
      "source": [
        "happiness_report_csv.drop(useless_cols,axis=1,inplace=True)\n",
        "happiness_report_csv.head()"
      ],
      "execution_count": 90,
      "outputs": [
        {
          "output_type": "execute_result",
          "data": {
            "text/html": [
              "<div>\n",
              "<style scoped>\n",
              "    .dataframe tbody tr th:only-of-type {\n",
              "        vertical-align: middle;\n",
              "    }\n",
              "\n",
              "    .dataframe tbody tr th {\n",
              "        vertical-align: top;\n",
              "    }\n",
              "\n",
              "    .dataframe thead th {\n",
              "        text-align: right;\n",
              "    }\n",
              "</style>\n",
              "<table border=\"1\" class=\"dataframe\">\n",
              "  <thead>\n",
              "    <tr style=\"text-align: right;\">\n",
              "      <th></th>\n",
              "      <th>Country or region</th>\n",
              "      <th>GDP per capita</th>\n",
              "      <th>Social support</th>\n",
              "      <th>Healthy life expectancy</th>\n",
              "      <th>Freedom to make life choices</th>\n",
              "    </tr>\n",
              "  </thead>\n",
              "  <tbody>\n",
              "    <tr>\n",
              "      <th>0</th>\n",
              "      <td>Finland</td>\n",
              "      <td>1.340</td>\n",
              "      <td>1.587</td>\n",
              "      <td>0.986</td>\n",
              "      <td>0.596</td>\n",
              "    </tr>\n",
              "    <tr>\n",
              "      <th>1</th>\n",
              "      <td>Denmark</td>\n",
              "      <td>1.383</td>\n",
              "      <td>1.573</td>\n",
              "      <td>0.996</td>\n",
              "      <td>0.592</td>\n",
              "    </tr>\n",
              "    <tr>\n",
              "      <th>2</th>\n",
              "      <td>Norway</td>\n",
              "      <td>1.488</td>\n",
              "      <td>1.582</td>\n",
              "      <td>1.028</td>\n",
              "      <td>0.603</td>\n",
              "    </tr>\n",
              "    <tr>\n",
              "      <th>3</th>\n",
              "      <td>Iceland</td>\n",
              "      <td>1.380</td>\n",
              "      <td>1.624</td>\n",
              "      <td>1.026</td>\n",
              "      <td>0.591</td>\n",
              "    </tr>\n",
              "    <tr>\n",
              "      <th>4</th>\n",
              "      <td>Netherlands</td>\n",
              "      <td>1.396</td>\n",
              "      <td>1.522</td>\n",
              "      <td>0.999</td>\n",
              "      <td>0.557</td>\n",
              "    </tr>\n",
              "  </tbody>\n",
              "</table>\n",
              "</div>"
            ],
            "text/plain": [
              "  Country or region  ...  Freedom to make life choices\n",
              "0           Finland  ...                         0.596\n",
              "1           Denmark  ...                         0.592\n",
              "2            Norway  ...                         0.603\n",
              "3           Iceland  ...                         0.591\n",
              "4       Netherlands  ...                         0.557\n",
              "\n",
              "[5 rows x 5 columns]"
            ]
          },
          "metadata": {
            "tags": []
          },
          "execution_count": 90
        }
      ]
    },
    {
      "cell_type": "markdown",
      "metadata": {
        "id": "XvxT8R4Hjvnp",
        "colab_type": "text"
      },
      "source": [
        "### Task 4.3: changing the indices of the dataframe"
      ]
    },
    {
      "cell_type": "code",
      "metadata": {
        "id": "UWFQ_hFLjvnq",
        "colab_type": "code",
        "colab": {}
      },
      "source": [
        "happiness_report_csv.set_index(\"Country or region\",inplace=True)"
      ],
      "execution_count": 91,
      "outputs": []
    },
    {
      "cell_type": "code",
      "metadata": {
        "id": "r6j5Il2vjvns",
        "colab_type": "code",
        "colab": {
          "base_uri": "https://localhost:8080/",
          "height": 233
        },
        "outputId": "5a55fc39-32f3-4d24-e488-9086599e1d35"
      },
      "source": [
        "happiness_report_csv.head()"
      ],
      "execution_count": 92,
      "outputs": [
        {
          "output_type": "execute_result",
          "data": {
            "text/html": [
              "<div>\n",
              "<style scoped>\n",
              "    .dataframe tbody tr th:only-of-type {\n",
              "        vertical-align: middle;\n",
              "    }\n",
              "\n",
              "    .dataframe tbody tr th {\n",
              "        vertical-align: top;\n",
              "    }\n",
              "\n",
              "    .dataframe thead th {\n",
              "        text-align: right;\n",
              "    }\n",
              "</style>\n",
              "<table border=\"1\" class=\"dataframe\">\n",
              "  <thead>\n",
              "    <tr style=\"text-align: right;\">\n",
              "      <th></th>\n",
              "      <th>GDP per capita</th>\n",
              "      <th>Social support</th>\n",
              "      <th>Healthy life expectancy</th>\n",
              "      <th>Freedom to make life choices</th>\n",
              "    </tr>\n",
              "    <tr>\n",
              "      <th>Country or region</th>\n",
              "      <th></th>\n",
              "      <th></th>\n",
              "      <th></th>\n",
              "      <th></th>\n",
              "    </tr>\n",
              "  </thead>\n",
              "  <tbody>\n",
              "    <tr>\n",
              "      <th>Finland</th>\n",
              "      <td>1.340</td>\n",
              "      <td>1.587</td>\n",
              "      <td>0.986</td>\n",
              "      <td>0.596</td>\n",
              "    </tr>\n",
              "    <tr>\n",
              "      <th>Denmark</th>\n",
              "      <td>1.383</td>\n",
              "      <td>1.573</td>\n",
              "      <td>0.996</td>\n",
              "      <td>0.592</td>\n",
              "    </tr>\n",
              "    <tr>\n",
              "      <th>Norway</th>\n",
              "      <td>1.488</td>\n",
              "      <td>1.582</td>\n",
              "      <td>1.028</td>\n",
              "      <td>0.603</td>\n",
              "    </tr>\n",
              "    <tr>\n",
              "      <th>Iceland</th>\n",
              "      <td>1.380</td>\n",
              "      <td>1.624</td>\n",
              "      <td>1.026</td>\n",
              "      <td>0.591</td>\n",
              "    </tr>\n",
              "    <tr>\n",
              "      <th>Netherlands</th>\n",
              "      <td>1.396</td>\n",
              "      <td>1.522</td>\n",
              "      <td>0.999</td>\n",
              "      <td>0.557</td>\n",
              "    </tr>\n",
              "  </tbody>\n",
              "</table>\n",
              "</div>"
            ],
            "text/plain": [
              "                   GDP per capita  ...  Freedom to make life choices\n",
              "Country or region                  ...                              \n",
              "Finland                     1.340  ...                         0.596\n",
              "Denmark                     1.383  ...                         0.592\n",
              "Norway                      1.488  ...                         0.603\n",
              "Iceland                     1.380  ...                         0.591\n",
              "Netherlands                 1.396  ...                         0.557\n",
              "\n",
              "[5 rows x 4 columns]"
            ]
          },
          "metadata": {
            "tags": []
          },
          "execution_count": 92
        }
      ]
    },
    {
      "cell_type": "code",
      "metadata": {
        "id": "k9heAl1hjvnu",
        "colab_type": "code",
        "colab": {}
      },
      "source": [
        ""
      ],
      "execution_count": 92,
      "outputs": []
    },
    {
      "cell_type": "markdown",
      "metadata": {
        "id": "UfbHbuuXjvnv",
        "colab_type": "text"
      },
      "source": [
        "### Task4.4: now let's join two dataset we have prepared  "
      ]
    },
    {
      "cell_type": "markdown",
      "metadata": {
        "id": "XsOOBioKjvnw",
        "colab_type": "text"
      },
      "source": [
        "#### Corona Dataset :"
      ]
    },
    {
      "cell_type": "code",
      "metadata": {
        "id": "FG-s6dWFjvnw",
        "colab_type": "code",
        "colab": {
          "base_uri": "https://localhost:8080/",
          "height": 233
        },
        "outputId": "ca9024f8-c5b4-4ce6-cbd5-eada0320cf1e"
      },
      "source": [
        "corona_data.head()"
      ],
      "execution_count": 93,
      "outputs": [
        {
          "output_type": "execute_result",
          "data": {
            "text/html": [
              "<div>\n",
              "<style scoped>\n",
              "    .dataframe tbody tr th:only-of-type {\n",
              "        vertical-align: middle;\n",
              "    }\n",
              "\n",
              "    .dataframe tbody tr th {\n",
              "        vertical-align: top;\n",
              "    }\n",
              "\n",
              "    .dataframe thead th {\n",
              "        text-align: right;\n",
              "    }\n",
              "</style>\n",
              "<table border=\"1\" class=\"dataframe\">\n",
              "  <thead>\n",
              "    <tr style=\"text-align: right;\">\n",
              "      <th></th>\n",
              "      <th>max_infection_rates</th>\n",
              "    </tr>\n",
              "    <tr>\n",
              "      <th>Country/Region</th>\n",
              "      <th></th>\n",
              "    </tr>\n",
              "  </thead>\n",
              "  <tbody>\n",
              "    <tr>\n",
              "      <th>Afghanistan</th>\n",
              "      <td>915.0</td>\n",
              "    </tr>\n",
              "    <tr>\n",
              "      <th>Albania</th>\n",
              "      <td>82.0</td>\n",
              "    </tr>\n",
              "    <tr>\n",
              "      <th>Algeria</th>\n",
              "      <td>336.0</td>\n",
              "    </tr>\n",
              "    <tr>\n",
              "      <th>Andorra</th>\n",
              "      <td>79.0</td>\n",
              "    </tr>\n",
              "    <tr>\n",
              "      <th>Angola</th>\n",
              "      <td>47.0</td>\n",
              "    </tr>\n",
              "  </tbody>\n",
              "</table>\n",
              "</div>"
            ],
            "text/plain": [
              "                max_infection_rates\n",
              "Country/Region                     \n",
              "Afghanistan                   915.0\n",
              "Albania                        82.0\n",
              "Algeria                       336.0\n",
              "Andorra                        79.0\n",
              "Angola                         47.0"
            ]
          },
          "metadata": {
            "tags": []
          },
          "execution_count": 93
        }
      ]
    },
    {
      "cell_type": "code",
      "metadata": {
        "id": "pzFXHUaUjvny",
        "colab_type": "code",
        "colab": {
          "base_uri": "https://localhost:8080/",
          "height": 35
        },
        "outputId": "c1083c4f-7b5a-4b2b-fc15-26f85dd25314"
      },
      "source": [
        "corona_data.shape"
      ],
      "execution_count": 94,
      "outputs": [
        {
          "output_type": "execute_result",
          "data": {
            "text/plain": [
              "(188, 1)"
            ]
          },
          "metadata": {
            "tags": []
          },
          "execution_count": 94
        }
      ]
    },
    {
      "cell_type": "markdown",
      "metadata": {
        "id": "WrG3fvmtjvn1",
        "colab_type": "text"
      },
      "source": [
        "#### wolrd happiness report Dataset :"
      ]
    },
    {
      "cell_type": "code",
      "metadata": {
        "id": "RdB3f6fPjvn2",
        "colab_type": "code",
        "colab": {
          "base_uri": "https://localhost:8080/",
          "height": 35
        },
        "outputId": "2a61d222-a424-41e3-f5f4-9afdad480d14"
      },
      "source": [
        "happiness_report_csv.shape"
      ],
      "execution_count": 95,
      "outputs": [
        {
          "output_type": "execute_result",
          "data": {
            "text/plain": [
              "(156, 4)"
            ]
          },
          "metadata": {
            "tags": []
          },
          "execution_count": 95
        }
      ]
    },
    {
      "cell_type": "code",
      "metadata": {
        "id": "zvfdUBpVjvn4",
        "colab_type": "code",
        "colab": {
          "base_uri": "https://localhost:8080/",
          "height": 219
        },
        "outputId": "1d1b3db8-30ca-45a6-915d-3a82acbd8cbf"
      },
      "source": [
        "data=corona_data.join(happiness_report_csv, how=\"inner\")\n",
        "data.head()"
      ],
      "execution_count": 96,
      "outputs": [
        {
          "output_type": "execute_result",
          "data": {
            "text/html": [
              "<div>\n",
              "<style scoped>\n",
              "    .dataframe tbody tr th:only-of-type {\n",
              "        vertical-align: middle;\n",
              "    }\n",
              "\n",
              "    .dataframe tbody tr th {\n",
              "        vertical-align: top;\n",
              "    }\n",
              "\n",
              "    .dataframe thead th {\n",
              "        text-align: right;\n",
              "    }\n",
              "</style>\n",
              "<table border=\"1\" class=\"dataframe\">\n",
              "  <thead>\n",
              "    <tr style=\"text-align: right;\">\n",
              "      <th></th>\n",
              "      <th>max_infection_rates</th>\n",
              "      <th>GDP per capita</th>\n",
              "      <th>Social support</th>\n",
              "      <th>Healthy life expectancy</th>\n",
              "      <th>Freedom to make life choices</th>\n",
              "    </tr>\n",
              "  </thead>\n",
              "  <tbody>\n",
              "    <tr>\n",
              "      <th>Afghanistan</th>\n",
              "      <td>915.0</td>\n",
              "      <td>0.350</td>\n",
              "      <td>0.517</td>\n",
              "      <td>0.361</td>\n",
              "      <td>0.000</td>\n",
              "    </tr>\n",
              "    <tr>\n",
              "      <th>Albania</th>\n",
              "      <td>82.0</td>\n",
              "      <td>0.947</td>\n",
              "      <td>0.848</td>\n",
              "      <td>0.874</td>\n",
              "      <td>0.383</td>\n",
              "    </tr>\n",
              "    <tr>\n",
              "      <th>Algeria</th>\n",
              "      <td>336.0</td>\n",
              "      <td>1.002</td>\n",
              "      <td>1.160</td>\n",
              "      <td>0.785</td>\n",
              "      <td>0.086</td>\n",
              "    </tr>\n",
              "    <tr>\n",
              "      <th>Argentina</th>\n",
              "      <td>2886.0</td>\n",
              "      <td>1.092</td>\n",
              "      <td>1.432</td>\n",
              "      <td>0.881</td>\n",
              "      <td>0.471</td>\n",
              "    </tr>\n",
              "    <tr>\n",
              "      <th>Armenia</th>\n",
              "      <td>771.0</td>\n",
              "      <td>0.850</td>\n",
              "      <td>1.055</td>\n",
              "      <td>0.815</td>\n",
              "      <td>0.283</td>\n",
              "    </tr>\n",
              "  </tbody>\n",
              "</table>\n",
              "</div>"
            ],
            "text/plain": [
              "             max_infection_rates  ...  Freedom to make life choices\n",
              "Afghanistan                915.0  ...                         0.000\n",
              "Albania                     82.0  ...                         0.383\n",
              "Algeria                    336.0  ...                         0.086\n",
              "Argentina                 2886.0  ...                         0.471\n",
              "Armenia                    771.0  ...                         0.283\n",
              "\n",
              "[5 rows x 5 columns]"
            ]
          },
          "metadata": {
            "tags": []
          },
          "execution_count": 96
        }
      ]
    },
    {
      "cell_type": "code",
      "metadata": {
        "id": "JgyULhQ0jvn8",
        "colab_type": "code",
        "colab": {
          "base_uri": "https://localhost:8080/",
          "height": 35
        },
        "outputId": "cfa9e9c2-a543-4d45-c088-a69f1d44100e"
      },
      "source": [
        "data.shape"
      ],
      "execution_count": 97,
      "outputs": [
        {
          "output_type": "execute_result",
          "data": {
            "text/plain": [
              "(144, 5)"
            ]
          },
          "metadata": {
            "tags": []
          },
          "execution_count": 97
        }
      ]
    },
    {
      "cell_type": "markdown",
      "metadata": {
        "id": "y0K5elCljvn_",
        "colab_type": "text"
      },
      "source": [
        "### Task 4.5: correlation matrix "
      ]
    },
    {
      "cell_type": "code",
      "metadata": {
        "id": "N1V5Z_OljvoA",
        "colab_type": "code",
        "colab": {
          "base_uri": "https://localhost:8080/",
          "height": 237
        },
        "outputId": "2d45bf2f-a929-4f9f-d65b-879675f4a206"
      },
      "source": [
        "data.corr()"
      ],
      "execution_count": 98,
      "outputs": [
        {
          "output_type": "execute_result",
          "data": {
            "text/html": [
              "<div>\n",
              "<style scoped>\n",
              "    .dataframe tbody tr th:only-of-type {\n",
              "        vertical-align: middle;\n",
              "    }\n",
              "\n",
              "    .dataframe tbody tr th {\n",
              "        vertical-align: top;\n",
              "    }\n",
              "\n",
              "    .dataframe thead th {\n",
              "        text-align: right;\n",
              "    }\n",
              "</style>\n",
              "<table border=\"1\" class=\"dataframe\">\n",
              "  <thead>\n",
              "    <tr style=\"text-align: right;\">\n",
              "      <th></th>\n",
              "      <th>max_infection_rates</th>\n",
              "      <th>GDP per capita</th>\n",
              "      <th>Social support</th>\n",
              "      <th>Healthy life expectancy</th>\n",
              "      <th>Freedom to make life choices</th>\n",
              "    </tr>\n",
              "  </thead>\n",
              "  <tbody>\n",
              "    <tr>\n",
              "      <th>max_infection_rates</th>\n",
              "      <td>1.000000</td>\n",
              "      <td>0.161995</td>\n",
              "      <td>0.124306</td>\n",
              "      <td>0.165086</td>\n",
              "      <td>0.048141</td>\n",
              "    </tr>\n",
              "    <tr>\n",
              "      <th>GDP per capita</th>\n",
              "      <td>0.161995</td>\n",
              "      <td>1.000000</td>\n",
              "      <td>0.757521</td>\n",
              "      <td>0.859431</td>\n",
              "      <td>0.394799</td>\n",
              "    </tr>\n",
              "    <tr>\n",
              "      <th>Social support</th>\n",
              "      <td>0.124306</td>\n",
              "      <td>0.757521</td>\n",
              "      <td>1.000000</td>\n",
              "      <td>0.751632</td>\n",
              "      <td>0.456317</td>\n",
              "    </tr>\n",
              "    <tr>\n",
              "      <th>Healthy life expectancy</th>\n",
              "      <td>0.165086</td>\n",
              "      <td>0.859431</td>\n",
              "      <td>0.751632</td>\n",
              "      <td>1.000000</td>\n",
              "      <td>0.423146</td>\n",
              "    </tr>\n",
              "    <tr>\n",
              "      <th>Freedom to make life choices</th>\n",
              "      <td>0.048141</td>\n",
              "      <td>0.394799</td>\n",
              "      <td>0.456317</td>\n",
              "      <td>0.423146</td>\n",
              "      <td>1.000000</td>\n",
              "    </tr>\n",
              "  </tbody>\n",
              "</table>\n",
              "</div>"
            ],
            "text/plain": [
              "                              max_infection_rates  ...  Freedom to make life choices\n",
              "max_infection_rates                      1.000000  ...                      0.048141\n",
              "GDP per capita                           0.161995  ...                      0.394799\n",
              "Social support                           0.124306  ...                      0.456317\n",
              "Healthy life expectancy                  0.165086  ...                      0.423146\n",
              "Freedom to make life choices             0.048141  ...                      1.000000\n",
              "\n",
              "[5 rows x 5 columns]"
            ]
          },
          "metadata": {
            "tags": []
          },
          "execution_count": 98
        }
      ]
    },
    {
      "cell_type": "markdown",
      "metadata": {
        "id": "aWrE3G4GjvoF",
        "colab_type": "text"
      },
      "source": [
        "### Task 5: Visualization of the results\n",
        "our Analysis is not finished unless we visualize the results in terms figures and graphs so that everyone can understand what you get out of our analysis"
      ]
    },
    {
      "cell_type": "code",
      "metadata": {
        "id": "fYE9jiHWjvoG",
        "colab_type": "code",
        "colab": {
          "base_uri": "https://localhost:8080/",
          "height": 219
        },
        "outputId": "bf3294d9-eb2b-4124-d17f-2b51c1b6bc48"
      },
      "source": [
        "data.head()"
      ],
      "execution_count": 99,
      "outputs": [
        {
          "output_type": "execute_result",
          "data": {
            "text/html": [
              "<div>\n",
              "<style scoped>\n",
              "    .dataframe tbody tr th:only-of-type {\n",
              "        vertical-align: middle;\n",
              "    }\n",
              "\n",
              "    .dataframe tbody tr th {\n",
              "        vertical-align: top;\n",
              "    }\n",
              "\n",
              "    .dataframe thead th {\n",
              "        text-align: right;\n",
              "    }\n",
              "</style>\n",
              "<table border=\"1\" class=\"dataframe\">\n",
              "  <thead>\n",
              "    <tr style=\"text-align: right;\">\n",
              "      <th></th>\n",
              "      <th>max_infection_rates</th>\n",
              "      <th>GDP per capita</th>\n",
              "      <th>Social support</th>\n",
              "      <th>Healthy life expectancy</th>\n",
              "      <th>Freedom to make life choices</th>\n",
              "    </tr>\n",
              "  </thead>\n",
              "  <tbody>\n",
              "    <tr>\n",
              "      <th>Afghanistan</th>\n",
              "      <td>915.0</td>\n",
              "      <td>0.350</td>\n",
              "      <td>0.517</td>\n",
              "      <td>0.361</td>\n",
              "      <td>0.000</td>\n",
              "    </tr>\n",
              "    <tr>\n",
              "      <th>Albania</th>\n",
              "      <td>82.0</td>\n",
              "      <td>0.947</td>\n",
              "      <td>0.848</td>\n",
              "      <td>0.874</td>\n",
              "      <td>0.383</td>\n",
              "    </tr>\n",
              "    <tr>\n",
              "      <th>Algeria</th>\n",
              "      <td>336.0</td>\n",
              "      <td>1.002</td>\n",
              "      <td>1.160</td>\n",
              "      <td>0.785</td>\n",
              "      <td>0.086</td>\n",
              "    </tr>\n",
              "    <tr>\n",
              "      <th>Argentina</th>\n",
              "      <td>2886.0</td>\n",
              "      <td>1.092</td>\n",
              "      <td>1.432</td>\n",
              "      <td>0.881</td>\n",
              "      <td>0.471</td>\n",
              "    </tr>\n",
              "    <tr>\n",
              "      <th>Armenia</th>\n",
              "      <td>771.0</td>\n",
              "      <td>0.850</td>\n",
              "      <td>1.055</td>\n",
              "      <td>0.815</td>\n",
              "      <td>0.283</td>\n",
              "    </tr>\n",
              "  </tbody>\n",
              "</table>\n",
              "</div>"
            ],
            "text/plain": [
              "             max_infection_rates  ...  Freedom to make life choices\n",
              "Afghanistan                915.0  ...                         0.000\n",
              "Albania                     82.0  ...                         0.383\n",
              "Algeria                    336.0  ...                         0.086\n",
              "Argentina                 2886.0  ...                         0.471\n",
              "Armenia                    771.0  ...                         0.283\n",
              "\n",
              "[5 rows x 5 columns]"
            ]
          },
          "metadata": {
            "tags": []
          },
          "execution_count": 99
        }
      ]
    },
    {
      "cell_type": "markdown",
      "metadata": {
        "id": "RanXKtfVjvoL",
        "colab_type": "text"
      },
      "source": [
        "### Task 5.1: Plotting GDP vs maximum Infection rate"
      ]
    },
    {
      "cell_type": "code",
      "metadata": {
        "id": "ulhedW7qjvoL",
        "colab_type": "code",
        "colab": {
          "base_uri": "https://localhost:8080/",
          "height": 297
        },
        "outputId": "9ab3b9fb-b8e7-420d-ba35-da8055c1450b"
      },
      "source": [
        "x=data[\"GDP per capita\"]\n",
        "y=data[\"max_infection_rates\"]\n",
        "sns.scatterplot(x,np.log(y))"
      ],
      "execution_count": 100,
      "outputs": [
        {
          "output_type": "execute_result",
          "data": {
            "text/plain": [
              "<matplotlib.axes._subplots.AxesSubplot at 0x7f8477016978>"
            ]
          },
          "metadata": {
            "tags": []
          },
          "execution_count": 100
        },
        {
          "output_type": "display_data",
          "data": {
            "image/png": "[encoded data removed]",
            "text/plain": [
              "<Figure size 432x288 with 1 Axes>"
            ]
          },
          "metadata": {
            "tags": [],
            "needs_background": "light"
          }
        }
      ]
    },
    {
      "cell_type": "code",
      "metadata": {
        "id": "lvbEjjM7jvoQ",
        "colab_type": "code",
        "colab": {
          "base_uri": "https://localhost:8080/",
          "height": 297
        },
        "outputId": "c73f7d62-0879-4503-9e58-e538b5a91076"
      },
      "source": [
        "sns.regplot(x,np.log(y))"
      ],
      "execution_count": 101,
      "outputs": [
        {
          "output_type": "execute_result",
          "data": {
            "text/plain": [
              "<matplotlib.axes._subplots.AxesSubplot at 0x7f8476f7df98>"
            ]
          },
          "metadata": {
            "tags": []
          },
          "execution_count": 101
        },
        {
          "output_type": "display_data",
          "data": {
            "image/png": "[encoded data removed]",
            "text/plain": [
              "<Figure size 432x288 with 1 Axes>"
            ]
          },
          "metadata": {
            "tags": [],
            "needs_background": "light"
          }
        }
      ]
    },
    {
      "cell_type": "markdown",
      "metadata": {
        "id": "1ELkSBE9jvoS",
        "colab_type": "text"
      },
      "source": [
        "### Task 5.2: Plotting Social support vs maximum Infection rate"
      ]
    },
    {
      "cell_type": "code",
      "metadata": {
        "id": "r3Zw-6xEjvoT",
        "colab_type": "code",
        "colab": {
          "base_uri": "https://localhost:8080/",
          "height": 297
        },
        "outputId": "c8eff6e2-72f3-4eda-a477-98614d9c03f6"
      },
      "source": [
        "x=data[\"Social support\"]\n",
        "y=data[\"max_infection_rates\"]\n",
        "sns.scatterplot(x,np.log(y))"
      ],
      "execution_count": 102,
      "outputs": [
        {
          "output_type": "execute_result",
          "data": {
            "text/plain": [
              "<matplotlib.axes._subplots.AxesSubplot at 0x7f8476f5f0f0>"
            ]
          },
          "metadata": {
            "tags": []
          },
          "execution_count": 102
        },
        {
          "output_type": "display_data",
          "data": {
            "image/png": "[encoded data removed]",
            "text/plain": [
              "<Figure size 432x288 with 1 Axes>"
            ]
          },
          "metadata": {
            "tags": [],
            "needs_background": "light"
          }
        }
      ]
    },
    {
      "cell_type": "code",
      "metadata": {
        "id": "2K_U-FH-jvoX",
        "colab_type": "code",
        "colab": {
          "base_uri": "https://localhost:8080/",
          "height": 297
        },
        "outputId": "19adcfb7-17b1-4fa4-ba6b-9b1fc4c374de"
      },
      "source": [
        "sns.regplot(x,np.log(y))"
      ],
      "execution_count": 103,
      "outputs": [
        {
          "output_type": "execute_result",
          "data": {
            "text/plain": [
              "<matplotlib.axes._subplots.AxesSubplot at 0x7f8476ec6a58>"
            ]
          },
          "metadata": {
            "tags": []
          },
          "execution_count": 103
        },
        {
          "output_type": "display_data",
          "data": {
            "image/png": "[encoded data removed]",
            "text/plain": [
              "<Figure size 432x288 with 1 Axes>"
            ]
          },
          "metadata": {
            "tags": [],
            "needs_background": "light"
          }
        }
      ]
    },
    {
      "cell_type": "markdown",
      "metadata": {
        "id": "Er8MnBJpjvoa",
        "colab_type": "text"
      },
      "source": [
        "### Task 5.3: Plotting Healthy life expectancy vs maximum Infection rate"
      ]
    },
    {
      "cell_type": "code",
      "metadata": {
        "id": "ql2T97rTjvob",
        "colab_type": "code",
        "colab": {
          "base_uri": "https://localhost:8080/",
          "height": 297
        },
        "outputId": "71d7ec0b-97a2-4801-833b-f517a8035781"
      },
      "source": [
        "x=data[\"Healthy life expectancy\"]\n",
        "y=data[\"max_infection_rates\"]\n",
        "sns.scatterplot(x,np.log(y))"
      ],
      "execution_count": 104,
      "outputs": [
        {
          "output_type": "execute_result",
          "data": {
            "text/plain": [
              "<matplotlib.axes._subplots.AxesSubplot at 0x7f8476e333c8>"
            ]
          },
          "metadata": {
            "tags": []
          },
          "execution_count": 104
        },
        {
          "output_type": "display_data",
          "data": {
            "image/png": "[encoded data removed]",
            "text/plain": [
              "<Figure size 432x288 with 1 Axes>"
            ]
          },
          "metadata": {
            "tags": [],
            "needs_background": "light"
          }
        }
      ]
    },
    {
      "cell_type": "code",
      "metadata": {
        "id": "1hKfRxTSjvod",
        "colab_type": "code",
        "colab": {
          "base_uri": "https://localhost:8080/",
          "height": 297
        },
        "outputId": "65b2fc0f-0598-48ca-80b1-cd9f31ea0bfb"
      },
      "source": [
        "sns.regplot(x,np.log(y))"
      ],
      "execution_count": 105,
      "outputs": [
        {
          "output_type": "execute_result",
          "data": {
            "text/plain": [
              "<matplotlib.axes._subplots.AxesSubplot at 0x7f8476f3e668>"
            ]
          },
          "metadata": {
            "tags": []
          },
          "execution_count": 105
        },
        {
          "output_type": "display_data",
          "data": {
            "image/png": "[encoded data removed]",
            "text/plain": [
              "<Figure size 432x288 with 1 Axes>"
            ]
          },
          "metadata": {
            "tags": [],
            "needs_background": "light"
          }
        }
      ]
    },
    {
      "cell_type": "markdown",
      "metadata": {
        "id": "H1p9R1Oxjvof",
        "colab_type": "text"
      },
      "source": [
        "### Task 5.4: Plotting Freedom to make life choices vs maximum Infection rate"
      ]
    },
    {
      "cell_type": "code",
      "metadata": {
        "id": "mbgxtWupjvog",
        "colab_type": "code",
        "colab": {
          "base_uri": "https://localhost:8080/",
          "height": 297
        },
        "outputId": "de6d57be-fa28-434e-c952-3e9c0d767244"
      },
      "source": [
        "x=data[\"Freedom to make life choices\"]\n",
        "y=data[\"max_infection_rates\"]\n",
        "sns.scatterplot(x,np.log(y))"
      ],
      "execution_count": 106,
      "outputs": [
        {
          "output_type": "execute_result",
          "data": {
            "text/plain": [
              "<matplotlib.axes._subplots.AxesSubplot at 0x7f8476de1d68>"
            ]
          },
          "metadata": {
            "tags": []
          },
          "execution_count": 106
        },
        {
          "output_type": "display_data",
          "data": {
            "image/png": "[encoded data removed]",
            "text/plain": [
              "<Figure size 432x288 with 1 Axes>"
            ]
          },
          "metadata": {
            "tags": [],
            "needs_background": "light"
          }
        }
      ]
    },
    {
      "cell_type": "code",
      "metadata": {
        "id": "67_H9y_9jvoi",
        "colab_type": "code",
        "colab": {
          "base_uri": "https://localhost:8080/",
          "height": 297
        },
        "outputId": "bd8aabd8-060b-41bb-aa74-85b748b15e2e"
      },
      "source": [
        "sns.regplot(x,np.log(y))"
      ],
      "execution_count": 107,
      "outputs": [
        {
          "output_type": "execute_result",
          "data": {
            "text/plain": [
              "<matplotlib.axes._subplots.AxesSubplot at 0x7f8476d8aeb8>"
            ]
          },
          "metadata": {
            "tags": []
          },
          "execution_count": 107
        },
        {
          "output_type": "display_data",
          "data": {
            "image/png": "[encoded data removed]",
            "text/plain": [
              "<Figure size 432x288 with 1 Axes>"
            ]
          },
          "metadata": {
            "tags": [],
            "needs_background": "light"
          }
        }
      ]
    },
    {
      "cell_type": "code",
      "metadata": {
        "id": "OG1cTuvMsZmV",
        "colab_type": "code",
        "colab": {
          "base_uri": "https://localhost:8080/",
          "height": 132
        },
        "outputId": "6515d224-a1e5-4eb2-9951-6d0083248e4e"
      },
      "source": [
        "I completed this short course to understand covid situation than blindly believing in the Indian Media, "
      ],
      "execution_count": 108,
      "outputs": [
        {
          "output_type": "error",
          "ename": "SyntaxError",
          "evalue": "ignored",
          "traceback": [
            "\u001b[0;36m  File \u001b[0;32m\"<ipython-input-108-c65d972b9595>\"\u001b[0;36m, line \u001b[0;32m1\u001b[0m\n\u001b[0;31m    I completed this short course to understand covid situation than blindly believing in the Indian Media,\u001b[0m\n\u001b[0m              ^\u001b[0m\n\u001b[0;31mSyntaxError\u001b[0m\u001b[0;31m:\u001b[0m invalid syntax\n"
          ]
        }
      ]
    }
  ]
}